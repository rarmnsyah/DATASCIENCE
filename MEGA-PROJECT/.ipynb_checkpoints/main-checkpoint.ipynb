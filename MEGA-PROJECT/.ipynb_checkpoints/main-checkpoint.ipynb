{
 "cells": [
  {
   "cell_type": "markdown",
   "id": "1404d0fb",
   "metadata": {},
   "source": [
    "## Main Mega Project File\n",
    "Pada file ini, kita akan melakukan beberapa hal terhadap data yang sudah kita scrapping. Data yang akan digunakan adalah data dari twit sebanyak 20000 dari twitter menggunakan api twint. 20000 baris data tersebut merupakan data dengan kandungan kata \"muslim\" dan merupakan 20000 twit terakhir.\n",
    "\n",
    "### Data Cleaning\n",
    "Pada bagian ini data akan dibersihkan sesuai kebutuhan projek."
   ]
  },
  {
   "cell_type": "code",
   "execution_count": 1,
   "id": "16b56b64",
   "metadata": {},
   "outputs": [],
   "source": [
    "import os\n",
    "import numpy as np\n",
    "import pandas as pd\n",
    "import matplotlib.pyplot as plt\n",
    "import seaborn as sns\n",
    "\n",
    "%matplotlib inline"
   ]
  },
  {
   "cell_type": "code",
   "execution_count": 8,
   "id": "f91af030",
   "metadata": {},
   "outputs": [],
   "source": [
    "def drop_columns(df):\n",
    "    base_col = [\n",
    "        'created_at', \n",
    "        'date', \n",
    "        'time', \n",
    "        'username', \n",
    "        'tweet', \n",
    "        'language', \n",
    "        'replies_count', \n",
    "        'retweets_count',\n",
    "        'likes_count',\n",
    "        'hashtags',     \n",
    "    ]\n",
    "    drop_col = diff(df.columns, base_col)\n",
    "    df_drop = df.drop(drop_col, axis = 1)\n",
    "    print(drop_col, df_drop)\n",
    "    return df_drop"
   ]
  },
  {
   "cell_type": "code",
   "execution_count": 13,
   "id": "73a79133",
   "metadata": {},
   "outputs": [],
   "source": [
    "def diff(list1, list2):\n",
    "    c = set(list1).union(set(list2))  # or c = set(list1) | set(list2)\n",
    "    d = set(list1).intersection(set(list2))  # or d = set(list1) & set(list2)\n",
    "    return list(c - d)"
   ]
  },
  {
   "cell_type": "code",
   "execution_count": 23,
   "id": "46eb399c",
   "metadata": {},
   "outputs": [],
   "source": [
    "def en_only(df):\n",
    "    df_en = df[df['language'] == 'en']\n",
    "    return df_en"
   ]
  },
  {
   "cell_type": "code",
   "execution_count": 31,
   "id": "ad28c51f",
   "metadata": {},
   "outputs": [],
   "source": [
    "def created_at_split(df):\n",
    "    df_splitted = df.copy()\n",
    "    df_splitted['region'] = df_splitted['created_at'].apply(lambda x : x.split()[2])\n",
    "    return df_splitted"
   ]
  },
  {
   "cell_type": "code",
   "execution_count": 33,
   "id": "0563b277",
   "metadata": {},
   "outputs": [],
   "source": [
    "def pipeline(df):\n",
    "    df = drop_columns(df)\n",
    "    df = en_only(df)    \n",
    "    df = created_at_split(df)\n",
    "    return df"
   ]
  },
  {
   "cell_type": "code",
   "execution_count": 24,
   "id": "3bda081f",
   "metadata": {
    "scrolled": false
   },
   "outputs": [
    {
     "name": "stderr",
     "output_type": "stream",
     "text": [
      "C:\\Users\\LENOVO\\AppData\\Local\\Temp\\ipykernel_908\\3084570000.py:4: DtypeWarning: Columns (9) have mixed types. Specify dtype option on import or set low_memory=False.\n",
      "  df = pd.read_csv(data_path)\n"
     ]
    },
    {
     "data": {
      "text/html": [
       "<div>\n",
       "<style scoped>\n",
       "    .dataframe tbody tr th:only-of-type {\n",
       "        vertical-align: middle;\n",
       "    }\n",
       "\n",
       "    .dataframe tbody tr th {\n",
       "        vertical-align: top;\n",
       "    }\n",
       "\n",
       "    .dataframe thead th {\n",
       "        text-align: right;\n",
       "    }\n",
       "</style>\n",
       "<table border=\"1\" class=\"dataframe\">\n",
       "  <thead>\n",
       "    <tr style=\"text-align: right;\">\n",
       "      <th></th>\n",
       "      <th>id</th>\n",
       "      <th>conversation_id</th>\n",
       "      <th>created_at</th>\n",
       "      <th>date</th>\n",
       "      <th>time</th>\n",
       "      <th>timezone</th>\n",
       "      <th>user_id</th>\n",
       "      <th>username</th>\n",
       "      <th>name</th>\n",
       "      <th>place</th>\n",
       "      <th>...</th>\n",
       "      <th>geo</th>\n",
       "      <th>source</th>\n",
       "      <th>user_rt_id</th>\n",
       "      <th>user_rt</th>\n",
       "      <th>retweet_id</th>\n",
       "      <th>reply_to</th>\n",
       "      <th>retweet_date</th>\n",
       "      <th>translate</th>\n",
       "      <th>trans_src</th>\n",
       "      <th>trans_dest</th>\n",
       "    </tr>\n",
       "  </thead>\n",
       "  <tbody>\n",
       "    <tr>\n",
       "      <th>0</th>\n",
       "      <td>1.620000e+18</td>\n",
       "      <td>1.620000e+18</td>\n",
       "      <td>2023-02-10 19:59:36 SE Asia Standard Time</td>\n",
       "      <td>2/10/2023</td>\n",
       "      <td>19:59:36</td>\n",
       "      <td>700</td>\n",
       "      <td>1.400000e+18</td>\n",
       "      <td>bmidou124</td>\n",
       "      <td>SriVaishnava Alucard (परकालरामानुजदासन)</td>\n",
       "      <td>NaN</td>\n",
       "      <td>...</td>\n",
       "      <td>NaN</td>\n",
       "      <td>NaN</td>\n",
       "      <td>NaN</td>\n",
       "      <td>NaN</td>\n",
       "      <td>NaN</td>\n",
       "      <td>[]</td>\n",
       "      <td>NaN</td>\n",
       "      <td>NaN</td>\n",
       "      <td>NaN</td>\n",
       "      <td>NaN</td>\n",
       "    </tr>\n",
       "    <tr>\n",
       "      <th>1</th>\n",
       "      <td>1.620000e+18</td>\n",
       "      <td>1.620000e+18</td>\n",
       "      <td>2023-02-10 19:59:34 SE Asia Standard Time</td>\n",
       "      <td>2/10/2023</td>\n",
       "      <td>19:59:34</td>\n",
       "      <td>700</td>\n",
       "      <td>6.535429e+07</td>\n",
       "      <td>khasbaat</td>\n",
       "      <td>arijit ghosh</td>\n",
       "      <td>NaN</td>\n",
       "      <td>...</td>\n",
       "      <td>NaN</td>\n",
       "      <td>NaN</td>\n",
       "      <td>NaN</td>\n",
       "      <td>NaN</td>\n",
       "      <td>NaN</td>\n",
       "      <td>[]</td>\n",
       "      <td>NaN</td>\n",
       "      <td>NaN</td>\n",
       "      <td>NaN</td>\n",
       "      <td>NaN</td>\n",
       "    </tr>\n",
       "    <tr>\n",
       "      <th>2</th>\n",
       "      <td>1.620000e+18</td>\n",
       "      <td>1.620000e+18</td>\n",
       "      <td>2023-02-10 19:59:33 SE Asia Standard Time</td>\n",
       "      <td>2/10/2023</td>\n",
       "      <td>19:59:33</td>\n",
       "      <td>700</td>\n",
       "      <td>1.060000e+18</td>\n",
       "      <td>vasudaiva</td>\n",
       "      <td>Vasudaiva_Kutumbakam 🕉️🛕🪷🐅</td>\n",
       "      <td>NaN</td>\n",
       "      <td>...</td>\n",
       "      <td>NaN</td>\n",
       "      <td>NaN</td>\n",
       "      <td>NaN</td>\n",
       "      <td>NaN</td>\n",
       "      <td>NaN</td>\n",
       "      <td>[{'screen_name': 'zafshee2', 'name': 'SheenA Z...</td>\n",
       "      <td>NaN</td>\n",
       "      <td>NaN</td>\n",
       "      <td>NaN</td>\n",
       "      <td>NaN</td>\n",
       "    </tr>\n",
       "    <tr>\n",
       "      <th>3</th>\n",
       "      <td>1.620000e+18</td>\n",
       "      <td>1.620000e+18</td>\n",
       "      <td>2023-02-10 19:59:30 SE Asia Standard Time</td>\n",
       "      <td>2/10/2023</td>\n",
       "      <td>19:59:30</td>\n",
       "      <td>700</td>\n",
       "      <td>8.590000e+17</td>\n",
       "      <td>mr_muslim511</td>\n",
       "      <td>Slim</td>\n",
       "      <td>NaN</td>\n",
       "      <td>...</td>\n",
       "      <td>NaN</td>\n",
       "      <td>NaN</td>\n",
       "      <td>NaN</td>\n",
       "      <td>NaN</td>\n",
       "      <td>NaN</td>\n",
       "      <td>[]</td>\n",
       "      <td>NaN</td>\n",
       "      <td>NaN</td>\n",
       "      <td>NaN</td>\n",
       "      <td>NaN</td>\n",
       "    </tr>\n",
       "    <tr>\n",
       "      <th>4</th>\n",
       "      <td>1.620000e+18</td>\n",
       "      <td>1.620000e+18</td>\n",
       "      <td>2023-02-10 19:59:29 SE Asia Standard Time</td>\n",
       "      <td>2/10/2023</td>\n",
       "      <td>19:59:29</td>\n",
       "      <td>700</td>\n",
       "      <td>1.620000e+18</td>\n",
       "      <td>rajeshc40075742</td>\n",
       "      <td>Rajesh ch</td>\n",
       "      <td>NaN</td>\n",
       "      <td>...</td>\n",
       "      <td>NaN</td>\n",
       "      <td>NaN</td>\n",
       "      <td>NaN</td>\n",
       "      <td>NaN</td>\n",
       "      <td>NaN</td>\n",
       "      <td>[{'screen_name': 'bandisanjay_bjp', 'name': 'B...</td>\n",
       "      <td>NaN</td>\n",
       "      <td>NaN</td>\n",
       "      <td>NaN</td>\n",
       "      <td>NaN</td>\n",
       "    </tr>\n",
       "  </tbody>\n",
       "</table>\n",
       "<p>5 rows × 36 columns</p>\n",
       "</div>"
      ],
      "text/plain": [
       "             id  conversation_id                                 created_at  \\\n",
       "0  1.620000e+18     1.620000e+18  2023-02-10 19:59:36 SE Asia Standard Time   \n",
       "1  1.620000e+18     1.620000e+18  2023-02-10 19:59:34 SE Asia Standard Time   \n",
       "2  1.620000e+18     1.620000e+18  2023-02-10 19:59:33 SE Asia Standard Time   \n",
       "3  1.620000e+18     1.620000e+18  2023-02-10 19:59:30 SE Asia Standard Time   \n",
       "4  1.620000e+18     1.620000e+18  2023-02-10 19:59:29 SE Asia Standard Time   \n",
       "\n",
       "        date      time  timezone       user_id         username  \\\n",
       "0  2/10/2023  19:59:36       700  1.400000e+18        bmidou124   \n",
       "1  2/10/2023  19:59:34       700  6.535429e+07         khasbaat   \n",
       "2  2/10/2023  19:59:33       700  1.060000e+18        vasudaiva   \n",
       "3  2/10/2023  19:59:30       700  8.590000e+17     mr_muslim511   \n",
       "4  2/10/2023  19:59:29       700  1.620000e+18  rajeshc40075742   \n",
       "\n",
       "                                      name place  ... geo source user_rt_id  \\\n",
       "0  SriVaishnava Alucard (परकालरामानुजदासन)   NaN  ... NaN    NaN        NaN   \n",
       "1                             arijit ghosh   NaN  ... NaN    NaN        NaN   \n",
       "2               Vasudaiva_Kutumbakam 🕉️🛕🪷🐅   NaN  ... NaN    NaN        NaN   \n",
       "3                                     Slim   NaN  ... NaN    NaN        NaN   \n",
       "4                                Rajesh ch   NaN  ... NaN    NaN        NaN   \n",
       "\n",
       "  user_rt retweet_id                                           reply_to  \\\n",
       "0     NaN        NaN                                                 []   \n",
       "1     NaN        NaN                                                 []   \n",
       "2     NaN        NaN  [{'screen_name': 'zafshee2', 'name': 'SheenA Z...   \n",
       "3     NaN        NaN                                                 []   \n",
       "4     NaN        NaN  [{'screen_name': 'bandisanjay_bjp', 'name': 'B...   \n",
       "\n",
       "   retweet_date  translate trans_src trans_dest  \n",
       "0           NaN        NaN       NaN        NaN  \n",
       "1           NaN        NaN       NaN        NaN  \n",
       "2           NaN        NaN       NaN        NaN  \n",
       "3           NaN        NaN       NaN        NaN  \n",
       "4           NaN        NaN       NaN        NaN  \n",
       "\n",
       "[5 rows x 36 columns]"
      ]
     },
     "execution_count": 24,
     "metadata": {},
     "output_type": "execute_result"
    }
   ],
   "source": [
    "cwd = os.getcwd()\n",
    "data_path = os.path.join(cwd, 'databases', 'store_twit_muslim.csv')\n",
    "\n",
    "df = pd.read_csv(data_path)\n",
    "df_copy = df.copy()\n",
    "\n",
    "df_copy.head()"
   ]
  },
  {
   "cell_type": "code",
   "execution_count": 40,
   "id": "17428b80",
   "metadata": {},
   "outputs": [],
   "source": [
    "df_drop = drop_columns(df_copy)\n",
    "df_drop"
   ]
  },
  {
   "cell_type": "code",
   "execution_count": 25,
   "id": "720da168",
   "metadata": {},
   "outputs": [
    {
     "data": {
      "text/plain": [
       "(20004, 36)"
      ]
     },
     "execution_count": 25,
     "metadata": {},
     "output_type": "execute_result"
    }
   ],
   "source": [
    "df_copy.shape"
   ]
  },
  {
   "cell_type": "code",
   "execution_count": 10,
   "id": "4873a966",
   "metadata": {},
   "outputs": [
    {
     "data": {
      "text/plain": [
       "Index(['id', 'conversation_id', 'created_at', 'date', 'time', 'timezone',\n",
       "       'user_id', 'username', 'name', 'place', 'tweet', 'language', 'mentions',\n",
       "       'urls', 'photos', 'replies_count', 'retweets_count', 'likes_count',\n",
       "       'hashtags', 'cashtags', 'link', 'retweet', 'quote_url', 'video',\n",
       "       'thumbnail', 'near', 'geo', 'source', 'user_rt_id', 'user_rt',\n",
       "       'retweet_id', 'reply_to', 'retweet_date', 'translate', 'trans_src',\n",
       "       'trans_dest'],\n",
       "      dtype='object')"
      ]
     },
     "execution_count": 10,
     "metadata": {},
     "output_type": "execute_result"
    }
   ],
   "source": [
    "df_copy.columns"
   ]
  },
  {
   "cell_type": "code",
   "execution_count": 4,
   "id": "519766d9",
   "metadata": {},
   "outputs": [
    {
     "data": {
      "text/plain": [
       "array(['en', 'et', 'in', 'ar', 'fr', 'tl', 'hi', 'sv', 'und', 'ps', 'ur',\n",
       "       'kn', 'zxx', 'ro', 'cy', 'tr', 'qme', 'ja', 'de', 'ca', 'am', 'bn',\n",
       "       'es', 'ht', 'ta', 'qam', 'da', 'fa', 'no', 'qht', 'pl', 'nl', 'pt',\n",
       "       'gu', 'it', 'fi', 'art', 'te', 'qst', 'sl', 'is', 'mr', 'si', 'zh',\n",
       "       'lv', 'ckb', 'cs', 'eu', 'lt', 'th'], dtype=object)"
      ]
     },
     "execution_count": 4,
     "metadata": {},
     "output_type": "execute_result"
    }
   ],
   "source": [
    "df['language'].unique()"
   ]
  },
  {
   "cell_type": "code",
   "execution_count": 6,
   "id": "d1c550ae",
   "metadata": {},
   "outputs": [
    {
     "data": {
      "text/html": [
       "<div>\n",
       "<style scoped>\n",
       "    .dataframe tbody tr th:only-of-type {\n",
       "        vertical-align: middle;\n",
       "    }\n",
       "\n",
       "    .dataframe tbody tr th {\n",
       "        vertical-align: top;\n",
       "    }\n",
       "\n",
       "    .dataframe thead th {\n",
       "        text-align: right;\n",
       "    }\n",
       "</style>\n",
       "<table border=\"1\" class=\"dataframe\">\n",
       "  <thead>\n",
       "    <tr style=\"text-align: right;\">\n",
       "      <th></th>\n",
       "      <th>id</th>\n",
       "      <th>conversation_id</th>\n",
       "      <th>created_at</th>\n",
       "      <th>date</th>\n",
       "      <th>time</th>\n",
       "      <th>timezone</th>\n",
       "      <th>user_id</th>\n",
       "      <th>username</th>\n",
       "      <th>name</th>\n",
       "      <th>place</th>\n",
       "      <th>...</th>\n",
       "      <th>geo</th>\n",
       "      <th>source</th>\n",
       "      <th>user_rt_id</th>\n",
       "      <th>user_rt</th>\n",
       "      <th>retweet_id</th>\n",
       "      <th>reply_to</th>\n",
       "      <th>retweet_date</th>\n",
       "      <th>translate</th>\n",
       "      <th>trans_src</th>\n",
       "      <th>trans_dest</th>\n",
       "    </tr>\n",
       "  </thead>\n",
       "  <tbody>\n",
       "  </tbody>\n",
       "</table>\n",
       "<p>0 rows × 36 columns</p>\n",
       "</div>"
      ],
      "text/plain": [
       "Empty DataFrame\n",
       "Columns: [id, conversation_id, created_at, date, time, timezone, user_id, username, name, place, tweet, language, mentions, urls, photos, replies_count, retweets_count, likes_count, hashtags, cashtags, link, retweet, quote_url, video, thumbnail, near, geo, source, user_rt_id, user_rt, retweet_id, reply_to, retweet_date, translate, trans_src, trans_dest]\n",
       "Index: []\n",
       "\n",
       "[0 rows x 36 columns]"
      ]
     },
     "execution_count": 6,
     "metadata": {},
     "output_type": "execute_result"
    }
   ],
   "source": [
    "df[df.duplicated()]"
   ]
  },
  {
   "cell_type": "code",
   "execution_count": 14,
   "id": "3581255e",
   "metadata": {},
   "outputs": [
    {
     "data": {
      "text/plain": [
       "<AxesSubplot: xlabel='count', ylabel='language'>"
      ]
     },
     "execution_count": 14,
     "metadata": {},
     "output_type": "execute_result"
    },
    {
     "data": {
      "image/png": "[encoded data removed]",
      "text/plain": [
       "<Figure size 1200x1200 with 1 Axes>"
      ]
     },
     "metadata": {},
     "output_type": "display_data"
    }
   ],
   "source": [
    "fig, ax = plt.subplots(1,1, figsize = (12,12))\n",
    "\n",
    "sns.countplot(data = df, y = 'language', ax = ax, order = df['language'].value_counts().index)"
   ]
  },
  {
   "cell_type": "markdown",
   "id": "c1a11b9e",
   "metadata": {},
   "source": [
    "Berdasarkan plot tersebut, kita mungkin hanya memerlukan bahasa en saja mengingat mungkin bahasa tersebut yang mungkin dapat dibaca. Selain itu, kedua bahasa tersebut menunjukkan banyak jumlah yang timpang dengan yang lain"
   ]
  },
  {
   "cell_type": "code",
   "execution_count": 28,
   "id": "bb4741bf",
   "metadata": {},
   "outputs": [],
   "source": [
    "df_en = en_only(df_copy)\n"
   ]
  },
  {
   "cell_type": "code",
   "execution_count": null,
   "id": "34d883d7",
   "metadata": {},
   "outputs": [],
   "source": [
    "df_copy = df.copy()\n",
    "\n"
   ]
  }
 ],
 "metadata": {
  "kernelspec": {
   "display_name": "Python 3 (ipykernel)",
   "language": "python",
   "name": "python3"
  },
  "language_info": {
   "codemirror_mode": {
    "name": "ipython",
    "version": 3
   },
   "file_extension": ".py",
   "mimetype": "text/x-python",
   "name": "python",
   "nbconvert_exporter": "python",
   "pygments_lexer": "ipython3",
   "version": "3.9.16"
  }
 },
 "nbformat": 4,
 "nbformat_minor": 5
}
