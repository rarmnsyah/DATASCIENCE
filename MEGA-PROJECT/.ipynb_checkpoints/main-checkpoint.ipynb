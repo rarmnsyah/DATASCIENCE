{
 "cells": [
  {
   "cell_type": "markdown",
   "id": "1404d0fb",
   "metadata": {},
   "source": [
    "## Main Mega Project File\n",
    "Pada file ini, kita akan melakukan beberapa hal terhadap data yang sudah kita scrapping. Data yang akan digunakan adalah data dari twit sebanyak 20000 dari twitter menggunakan api twint. 20000 baris data tersebut merupakan data dengan kandungan kata \"muslim\" dan merupakan 20000 twit terakhir.\n",
    "\n",
    "### Data Cleaning\n",
    "Pada bagian ini data akan dibersihkan sesuai kebutuhan projek."
   ]
  },
  {
   "cell_type": "code",
   "execution_count": 22,
   "id": "16b56b64",
   "metadata": {},
   "outputs": [],
   "source": [
    "import os\n",
    "import numpy as np\n",
    "import pandas as pd\n",
    "import matplotlib.pyplot as plt\n",
    "import seaborn as sns\n",
    "import warnings\n",
    "import re\n",
    "\n",
    "warnings.filterwarnings('ignore')\n",
    "%matplotlib inline\n",
    "\n",
    "sns.set(font_scale=1.5)\n",
    "sns.set_style(\"whitegrid\")"
   ]
  },
  {
   "cell_type": "code",
   "execution_count": 3,
   "id": "f91af030",
   "metadata": {},
   "outputs": [],
   "source": [
    "def drop_columns(df):\n",
    "    base_col = [\n",
    "        'created_at', \n",
    "        'date', \n",
    "        'time', \n",
    "        'username', \n",
    "        'tweet', \n",
    "        'language', \n",
    "        'replies_count', \n",
    "        'retweets_count',\n",
    "        'likes_count',\n",
    "        'hashtags',\n",
    "        'user_id',\n",
    "        'conversation_id'\n",
    "        \n",
    "    ]\n",
    "    drop_col = diff(df.columns, base_col)\n",
    "    df_drop = df.drop(drop_col, axis = 1)\n",
    "    return df_drop"
   ]
  },
  {
   "cell_type": "code",
   "execution_count": 4,
   "id": "65dd2d6e",
   "metadata": {},
   "outputs": [],
   "source": [
    "def diff(list1, list2):\n",
    "    c = set(list1).union(set(list2))  # or c = set(list1) | set(list2)\n",
    "    d = set(list1).intersection(set(list2))  # or d = set(list1) & set(list2)\n",
    "    return list(c - d)"
   ]
  },
  {
   "cell_type": "code",
   "execution_count": 5,
   "id": "982b78c2",
   "metadata": {},
   "outputs": [],
   "source": [
    "def en_only(df):\n",
    "    df_en = df[df['language'] == 'en']\n",
    "    return df_en"
   ]
  },
  {
   "cell_type": "code",
   "execution_count": 6,
   "id": "2f6b27b7",
   "metadata": {},
   "outputs": [],
   "source": [
    "def created_at_split(df):\n",
    "    df_splitted = df.copy()\n",
    "    df_splitted['region'] = df_splitted['created_at'].apply(lambda x : x.split()[2])\n",
    "    return df_splitted"
   ]
  },
  {
   "cell_type": "code",
   "execution_count": 7,
   "id": "13226951",
   "metadata": {},
   "outputs": [],
   "source": [
    "def pipeline(df):\n",
    "    df = drop_columns(df)\n",
    "    df = en_only(df)    \n",
    "    df = created_at_split(df)\n",
    "    return df"
   ]
  },
  {
   "cell_type": "code",
   "execution_count": 8,
   "id": "b19dccc1",
   "metadata": {},
   "outputs": [],
   "source": [
    "def highest_tweets(df_copy, col, limit):\n",
    "    df_copy_sum = pd.DataFrame(df_copy.groupby('username')[[col, 'user_id']].sum()).sort_values(by = [col], ascending = False)\n",
    "    \n",
    "    highest_tweet = df_copy_sum.iloc[:limit]\n",
    "\n",
    "    sns.barplot(data = highest_tweet, y = highest_tweet.index, x = col, orient = 'h')\n",
    "    \n",
    "    return highest_tweet"
   ]
  },
  {
   "cell_type": "code",
   "execution_count": null,
   "id": "c8a785a2",
   "metadata": {},
   "outputs": [],
   "source": [
    "def words_count(df):\n",
    "    words = []\n",
    "    \n",
    "    #menghapus segala bentuk huruf yang tidak diinginkan\n",
    "    df['tweet'] = df['tweet'].apply(lambda x : remove_url(x))\n",
    "\n",
    "    \n",
    "    #mengubah tiap kata pada tweet menjadi huruf kecil\n",
    "    df['tweet'] = df['tweet'].apply(lambda x : x.lower())\n",
    "    \n",
    "    #melakukan splitting word pada tiap tweet \n",
    "    words.append(df_copy['tweet'].apply(lambda x : x.split()))\n"
   ]
  },
  {
   "cell_type": "code",
   "execution_count": 20,
   "id": "9fe0369f",
   "metadata": {},
   "outputs": [],
   "source": [
    "def remove_url(txt):\n",
    "    \"\"\"Replace URLs found in a text string with nothing \n",
    "    (i.e. it will remove the URL from the string).\n",
    "\n",
    "    Parameters\n",
    "    ----------\n",
    "    txt : string\n",
    "        A text string that you want to parse and remove urls.\n",
    "\n",
    "    Returns\n",
    "    -------\n",
    "    The same txt string with url's removed.\n",
    "    \"\"\"\n",
    "\n",
    "    return \" \".join(re.sub(\"([^0-9A-Za-z \\t])|(\\w+:\\/\\/\\S+)\", \"\", txt).split())"
   ]
  },
  {
   "cell_type": "code",
   "execution_count": 10,
   "id": "3bda081f",
   "metadata": {
    "scrolled": false
   },
   "outputs": [
    {
     "data": {
      "text/html": [
       "<div>\n",
       "<style scoped>\n",
       "    .dataframe tbody tr th:only-of-type {\n",
       "        vertical-align: middle;\n",
       "    }\n",
       "\n",
       "    .dataframe tbody tr th {\n",
       "        vertical-align: top;\n",
       "    }\n",
       "\n",
       "    .dataframe thead th {\n",
       "        text-align: right;\n",
       "    }\n",
       "</style>\n",
       "<table border=\"1\" class=\"dataframe\">\n",
       "  <thead>\n",
       "    <tr style=\"text-align: right;\">\n",
       "      <th></th>\n",
       "      <th>id</th>\n",
       "      <th>conversation_id</th>\n",
       "      <th>created_at</th>\n",
       "      <th>date</th>\n",
       "      <th>time</th>\n",
       "      <th>timezone</th>\n",
       "      <th>user_id</th>\n",
       "      <th>username</th>\n",
       "      <th>name</th>\n",
       "      <th>place</th>\n",
       "      <th>...</th>\n",
       "      <th>geo</th>\n",
       "      <th>source</th>\n",
       "      <th>user_rt_id</th>\n",
       "      <th>user_rt</th>\n",
       "      <th>retweet_id</th>\n",
       "      <th>reply_to</th>\n",
       "      <th>retweet_date</th>\n",
       "      <th>translate</th>\n",
       "      <th>trans_src</th>\n",
       "      <th>trans_dest</th>\n",
       "    </tr>\n",
       "  </thead>\n",
       "  <tbody>\n",
       "    <tr>\n",
       "      <th>0</th>\n",
       "      <td>1.620000e+18</td>\n",
       "      <td>1.620000e+18</td>\n",
       "      <td>2023-02-10 19:59:36 SE Asia Standard Time</td>\n",
       "      <td>2/10/2023</td>\n",
       "      <td>19:59:36</td>\n",
       "      <td>700</td>\n",
       "      <td>1.400000e+18</td>\n",
       "      <td>bmidou124</td>\n",
       "      <td>SriVaishnava Alucard (परकालरामानुजदासन)</td>\n",
       "      <td>NaN</td>\n",
       "      <td>...</td>\n",
       "      <td>NaN</td>\n",
       "      <td>NaN</td>\n",
       "      <td>NaN</td>\n",
       "      <td>NaN</td>\n",
       "      <td>NaN</td>\n",
       "      <td>[]</td>\n",
       "      <td>NaN</td>\n",
       "      <td>NaN</td>\n",
       "      <td>NaN</td>\n",
       "      <td>NaN</td>\n",
       "    </tr>\n",
       "    <tr>\n",
       "      <th>1</th>\n",
       "      <td>1.620000e+18</td>\n",
       "      <td>1.620000e+18</td>\n",
       "      <td>2023-02-10 19:59:34 SE Asia Standard Time</td>\n",
       "      <td>2/10/2023</td>\n",
       "      <td>19:59:34</td>\n",
       "      <td>700</td>\n",
       "      <td>6.535429e+07</td>\n",
       "      <td>khasbaat</td>\n",
       "      <td>arijit ghosh</td>\n",
       "      <td>NaN</td>\n",
       "      <td>...</td>\n",
       "      <td>NaN</td>\n",
       "      <td>NaN</td>\n",
       "      <td>NaN</td>\n",
       "      <td>NaN</td>\n",
       "      <td>NaN</td>\n",
       "      <td>[]</td>\n",
       "      <td>NaN</td>\n",
       "      <td>NaN</td>\n",
       "      <td>NaN</td>\n",
       "      <td>NaN</td>\n",
       "    </tr>\n",
       "    <tr>\n",
       "      <th>2</th>\n",
       "      <td>1.620000e+18</td>\n",
       "      <td>1.620000e+18</td>\n",
       "      <td>2023-02-10 19:59:33 SE Asia Standard Time</td>\n",
       "      <td>2/10/2023</td>\n",
       "      <td>19:59:33</td>\n",
       "      <td>700</td>\n",
       "      <td>1.060000e+18</td>\n",
       "      <td>vasudaiva</td>\n",
       "      <td>Vasudaiva_Kutumbakam 🕉️🛕🪷🐅</td>\n",
       "      <td>NaN</td>\n",
       "      <td>...</td>\n",
       "      <td>NaN</td>\n",
       "      <td>NaN</td>\n",
       "      <td>NaN</td>\n",
       "      <td>NaN</td>\n",
       "      <td>NaN</td>\n",
       "      <td>[{'screen_name': 'zafshee2', 'name': 'SheenA Z...</td>\n",
       "      <td>NaN</td>\n",
       "      <td>NaN</td>\n",
       "      <td>NaN</td>\n",
       "      <td>NaN</td>\n",
       "    </tr>\n",
       "    <tr>\n",
       "      <th>3</th>\n",
       "      <td>1.620000e+18</td>\n",
       "      <td>1.620000e+18</td>\n",
       "      <td>2023-02-10 19:59:30 SE Asia Standard Time</td>\n",
       "      <td>2/10/2023</td>\n",
       "      <td>19:59:30</td>\n",
       "      <td>700</td>\n",
       "      <td>8.590000e+17</td>\n",
       "      <td>mr_muslim511</td>\n",
       "      <td>Slim</td>\n",
       "      <td>NaN</td>\n",
       "      <td>...</td>\n",
       "      <td>NaN</td>\n",
       "      <td>NaN</td>\n",
       "      <td>NaN</td>\n",
       "      <td>NaN</td>\n",
       "      <td>NaN</td>\n",
       "      <td>[]</td>\n",
       "      <td>NaN</td>\n",
       "      <td>NaN</td>\n",
       "      <td>NaN</td>\n",
       "      <td>NaN</td>\n",
       "    </tr>\n",
       "    <tr>\n",
       "      <th>4</th>\n",
       "      <td>1.620000e+18</td>\n",
       "      <td>1.620000e+18</td>\n",
       "      <td>2023-02-10 19:59:29 SE Asia Standard Time</td>\n",
       "      <td>2/10/2023</td>\n",
       "      <td>19:59:29</td>\n",
       "      <td>700</td>\n",
       "      <td>1.620000e+18</td>\n",
       "      <td>rajeshc40075742</td>\n",
       "      <td>Rajesh ch</td>\n",
       "      <td>NaN</td>\n",
       "      <td>...</td>\n",
       "      <td>NaN</td>\n",
       "      <td>NaN</td>\n",
       "      <td>NaN</td>\n",
       "      <td>NaN</td>\n",
       "      <td>NaN</td>\n",
       "      <td>[{'screen_name': 'bandisanjay_bjp', 'name': 'B...</td>\n",
       "      <td>NaN</td>\n",
       "      <td>NaN</td>\n",
       "      <td>NaN</td>\n",
       "      <td>NaN</td>\n",
       "    </tr>\n",
       "  </tbody>\n",
       "</table>\n",
       "<p>5 rows × 36 columns</p>\n",
       "</div>"
      ],
      "text/plain": [
       "             id  conversation_id                                 created_at  \\\n",
       "0  1.620000e+18     1.620000e+18  2023-02-10 19:59:36 SE Asia Standard Time   \n",
       "1  1.620000e+18     1.620000e+18  2023-02-10 19:59:34 SE Asia Standard Time   \n",
       "2  1.620000e+18     1.620000e+18  2023-02-10 19:59:33 SE Asia Standard Time   \n",
       "3  1.620000e+18     1.620000e+18  2023-02-10 19:59:30 SE Asia Standard Time   \n",
       "4  1.620000e+18     1.620000e+18  2023-02-10 19:59:29 SE Asia Standard Time   \n",
       "\n",
       "        date      time  timezone       user_id         username  \\\n",
       "0  2/10/2023  19:59:36       700  1.400000e+18        bmidou124   \n",
       "1  2/10/2023  19:59:34       700  6.535429e+07         khasbaat   \n",
       "2  2/10/2023  19:59:33       700  1.060000e+18        vasudaiva   \n",
       "3  2/10/2023  19:59:30       700  8.590000e+17     mr_muslim511   \n",
       "4  2/10/2023  19:59:29       700  1.620000e+18  rajeshc40075742   \n",
       "\n",
       "                                      name place  ... geo source user_rt_id  \\\n",
       "0  SriVaishnava Alucard (परकालरामानुजदासन)   NaN  ... NaN    NaN        NaN   \n",
       "1                             arijit ghosh   NaN  ... NaN    NaN        NaN   \n",
       "2               Vasudaiva_Kutumbakam 🕉️🛕🪷🐅   NaN  ... NaN    NaN        NaN   \n",
       "3                                     Slim   NaN  ... NaN    NaN        NaN   \n",
       "4                                Rajesh ch   NaN  ... NaN    NaN        NaN   \n",
       "\n",
       "  user_rt retweet_id                                           reply_to  \\\n",
       "0     NaN        NaN                                                 []   \n",
       "1     NaN        NaN                                                 []   \n",
       "2     NaN        NaN  [{'screen_name': 'zafshee2', 'name': 'SheenA Z...   \n",
       "3     NaN        NaN                                                 []   \n",
       "4     NaN        NaN  [{'screen_name': 'bandisanjay_bjp', 'name': 'B...   \n",
       "\n",
       "   retweet_date  translate trans_src trans_dest  \n",
       "0           NaN        NaN       NaN        NaN  \n",
       "1           NaN        NaN       NaN        NaN  \n",
       "2           NaN        NaN       NaN        NaN  \n",
       "3           NaN        NaN       NaN        NaN  \n",
       "4           NaN        NaN       NaN        NaN  \n",
       "\n",
       "[5 rows x 36 columns]"
      ]
     },
     "execution_count": 10,
     "metadata": {},
     "output_type": "execute_result"
    }
   ],
   "source": [
    "cwd = os.getcwd()\n",
    "data_path = os.path.join(cwd, 'databases', 'store_twit_muslim.csv')\n",
    "\n",
    "df = pd.read_csv(data_path)\n",
    "df_copy = df.copy()\n",
    "\n",
    "df_copy.head()"
   ]
  },
  {
   "cell_type": "code",
   "execution_count": 111,
   "id": "4fd8afb3",
   "metadata": {},
   "outputs": [
    {
     "data": {
      "image/png": "[encoded data removed]",
      "text/plain": [
       "<Figure size 640x480 with 1 Axes>"
      ]
     },
     "metadata": {},
     "output_type": "display_data"
    }
   ],
   "source": [
    "testing = highest_tweets2(df_copy, 'replies_count', 10)\n"
   ]
  },
  {
   "cell_type": "code",
   "execution_count": 138,
   "id": "b8146ea2",
   "metadata": {},
   "outputs": [
    {
     "data": {
      "image/png": "[encoded data removed]",
      "text/plain": [
       "<Figure size 640x480 with 1 Axes>"
      ]
     },
     "metadata": {},
     "output_type": "display_data"
    }
   ],
   "source": [
    "def highest_tweets(df_copy, col, limit):\n",
    "    df_copy_sum = pd.DataFrame(df_copy.groupby('username')[[col, 'user_id']].sum()).sort_values(by = [col], ascending = False)\n",
    "    \n",
    "    highest_tweet = df_copy_sum.iloc[:limit]\n",
    "\n",
    "    sns.barplot(data = highest_tweet, y = 'user_id', x = col, orient = 'h')\n",
    "    \n",
    "    return highest_tweet\n",
    "\n",
    "testing = highest_tweets(df_copy, 'replies_count', 10)\n"
   ]
  },
  {
   "cell_type": "code",
   "execution_count": 125,
   "id": "52549c63",
   "metadata": {},
   "outputs": [
    {
     "data": {
      "text/html": [
       "<div>\n",
       "<style scoped>\n",
       "    .dataframe tbody tr th:only-of-type {\n",
       "        vertical-align: middle;\n",
       "    }\n",
       "\n",
       "    .dataframe tbody tr th {\n",
       "        vertical-align: top;\n",
       "    }\n",
       "\n",
       "    .dataframe thead th {\n",
       "        text-align: right;\n",
       "    }\n",
       "</style>\n",
       "<table border=\"1\" class=\"dataframe\">\n",
       "  <thead>\n",
       "    <tr style=\"text-align: right;\">\n",
       "      <th></th>\n",
       "      <th>conversation_id</th>\n",
       "      <th>created_at</th>\n",
       "      <th>date</th>\n",
       "      <th>time</th>\n",
       "      <th>user_id</th>\n",
       "      <th>username</th>\n",
       "      <th>tweet</th>\n",
       "      <th>language</th>\n",
       "      <th>replies_count</th>\n",
       "      <th>retweets_count</th>\n",
       "      <th>likes_count</th>\n",
       "      <th>hashtags</th>\n",
       "      <th>region</th>\n",
       "    </tr>\n",
       "  </thead>\n",
       "  <tbody>\n",
       "    <tr>\n",
       "      <th>9944</th>\n",
       "      <td>1.620000e+18</td>\n",
       "      <td>2023-02-10 11:52:53 SE Asia Standard Time</td>\n",
       "      <td>2/10/2023</td>\n",
       "      <td>11:52:53</td>\n",
       "      <td>1.340000e+18</td>\n",
       "      <td>ayshertoo_muhd</td>\n",
       "      <td>How many Muslims are online to say Alhamdullilah?</td>\n",
       "      <td>en</td>\n",
       "      <td>195</td>\n",
       "      <td>96</td>\n",
       "      <td>913</td>\n",
       "      <td>[]</td>\n",
       "      <td>SE</td>\n",
       "    </tr>\n",
       "    <tr>\n",
       "      <th>10009</th>\n",
       "      <td>1.620000e+18</td>\n",
       "      <td>2023-02-10 11:48:38 SE Asia Standard Time</td>\n",
       "      <td>2/10/2023</td>\n",
       "      <td>11:48:38</td>\n",
       "      <td>1.340000e+18</td>\n",
       "      <td>ayshertoo_muhd</td>\n",
       "      <td>May Allah bless every Muslim with endless happ...</td>\n",
       "      <td>en</td>\n",
       "      <td>30</td>\n",
       "      <td>59</td>\n",
       "      <td>241</td>\n",
       "      <td>[]</td>\n",
       "      <td>SE</td>\n",
       "    </tr>\n",
       "  </tbody>\n",
       "</table>\n",
       "</div>"
      ],
      "text/plain": [
       "       conversation_id                                 created_at       date  \\\n",
       "9944      1.620000e+18  2023-02-10 11:52:53 SE Asia Standard Time  2/10/2023   \n",
       "10009     1.620000e+18  2023-02-10 11:48:38 SE Asia Standard Time  2/10/2023   \n",
       "\n",
       "           time       user_id        username  \\\n",
       "9944   11:52:53  1.340000e+18  ayshertoo_muhd   \n",
       "10009  11:48:38  1.340000e+18  ayshertoo_muhd   \n",
       "\n",
       "                                                   tweet language  \\\n",
       "9944   How many Muslims are online to say Alhamdullilah?       en   \n",
       "10009  May Allah bless every Muslim with endless happ...       en   \n",
       "\n",
       "       replies_count  retweets_count  likes_count hashtags region  \n",
       "9944             195              96          913       []     SE  \n",
       "10009             30              59          241       []     SE  "
      ]
     },
     "execution_count": 125,
     "metadata": {},
     "output_type": "execute_result"
    }
   ],
   "source": [
    "newdf = df_copy[df_copy['username'] == 'ayshertoo_muhd']\n",
    "newdf"
   ]
  },
  {
   "cell_type": "code",
   "execution_count": 130,
   "id": "63b1b508",
   "metadata": {},
   "outputs": [
    {
     "data": {
      "text/html": [
       "<div>\n",
       "<style scoped>\n",
       "    .dataframe tbody tr th:only-of-type {\n",
       "        vertical-align: middle;\n",
       "    }\n",
       "\n",
       "    .dataframe tbody tr th {\n",
       "        vertical-align: top;\n",
       "    }\n",
       "\n",
       "    .dataframe thead th {\n",
       "        text-align: right;\n",
       "    }\n",
       "</style>\n",
       "<table border=\"1\" class=\"dataframe\">\n",
       "  <thead>\n",
       "    <tr style=\"text-align: right;\">\n",
       "      <th></th>\n",
       "      <th>conversation_id</th>\n",
       "      <th>created_at</th>\n",
       "      <th>date</th>\n",
       "      <th>time</th>\n",
       "      <th>user_id</th>\n",
       "      <th>username</th>\n",
       "      <th>tweet</th>\n",
       "      <th>language</th>\n",
       "      <th>replies_count</th>\n",
       "      <th>retweets_count</th>\n",
       "      <th>likes_count</th>\n",
       "      <th>hashtags</th>\n",
       "      <th>region</th>\n",
       "    </tr>\n",
       "  </thead>\n",
       "  <tbody>\n",
       "    <tr>\n",
       "      <th>208</th>\n",
       "      <td>1.620000e+18</td>\n",
       "      <td>2023-02-10 19:51:03 SE Asia Standard Time</td>\n",
       "      <td>2/10/2023</td>\n",
       "      <td>19:51:03</td>\n",
       "      <td>1.340000e+18</td>\n",
       "      <td>sooshuv</td>\n",
       "      <td>And when I say muslims are dangerous for this ...</td>\n",
       "      <td>en</td>\n",
       "      <td>0</td>\n",
       "      <td>0</td>\n",
       "      <td>0</td>\n",
       "      <td>[]</td>\n",
       "      <td>SE</td>\n",
       "    </tr>\n",
       "    <tr>\n",
       "      <th>218</th>\n",
       "      <td>1.620000e+18</td>\n",
       "      <td>2023-02-10 19:50:35 SE Asia Standard Time</td>\n",
       "      <td>2/10/2023</td>\n",
       "      <td>19:50:35</td>\n",
       "      <td>1.340000e+18</td>\n",
       "      <td>khale_shreyansh</td>\n",
       "      <td>@IAMCouncil Why should anyone entertain anythi...</td>\n",
       "      <td>en</td>\n",
       "      <td>0</td>\n",
       "      <td>0</td>\n",
       "      <td>0</td>\n",
       "      <td>[]</td>\n",
       "      <td>SE</td>\n",
       "    </tr>\n",
       "    <tr>\n",
       "      <th>326</th>\n",
       "      <td>1.620000e+18</td>\n",
       "      <td>2023-02-10 19:45:12 SE Asia Standard Time</td>\n",
       "      <td>2/10/2023</td>\n",
       "      <td>19:45:12</td>\n",
       "      <td>1.340000e+18</td>\n",
       "      <td>toriatheisttori</td>\n",
       "      <td>@Mercy20099 @SaltyDawg49 Thats the most stupid...</td>\n",
       "      <td>en</td>\n",
       "      <td>1</td>\n",
       "      <td>0</td>\n",
       "      <td>1</td>\n",
       "      <td>[]</td>\n",
       "      <td>SE</td>\n",
       "    </tr>\n",
       "    <tr>\n",
       "      <th>416</th>\n",
       "      <td>1.620000e+18</td>\n",
       "      <td>2023-02-10 19:41:06 SE Asia Standard Time</td>\n",
       "      <td>2/10/2023</td>\n",
       "      <td>19:41:06</td>\n",
       "      <td>1.340000e+18</td>\n",
       "      <td>proudin20713821</td>\n",
       "      <td>@anjanaomkashyap @chitraaum @sudhirchaudhary @...</td>\n",
       "      <td>en</td>\n",
       "      <td>0</td>\n",
       "      <td>0</td>\n",
       "      <td>0</td>\n",
       "      <td>[]</td>\n",
       "      <td>SE</td>\n",
       "    </tr>\n",
       "    <tr>\n",
       "      <th>958</th>\n",
       "      <td>1.620000e+18</td>\n",
       "      <td>2023-02-10 19:19:02 SE Asia Standard Time</td>\n",
       "      <td>2/10/2023</td>\n",
       "      <td>19:19:02</td>\n",
       "      <td>1.340000e+18</td>\n",
       "      <td>theesnowch1ld</td>\n",
       "      <td>muslims who live in europe please can stfu yal...</td>\n",
       "      <td>en</td>\n",
       "      <td>0</td>\n",
       "      <td>0</td>\n",
       "      <td>0</td>\n",
       "      <td>[]</td>\n",
       "      <td>SE</td>\n",
       "    </tr>\n",
       "    <tr>\n",
       "      <th>...</th>\n",
       "      <td>...</td>\n",
       "      <td>...</td>\n",
       "      <td>...</td>\n",
       "      <td>...</td>\n",
       "      <td>...</td>\n",
       "      <td>...</td>\n",
       "      <td>...</td>\n",
       "      <td>...</td>\n",
       "      <td>...</td>\n",
       "      <td>...</td>\n",
       "      <td>...</td>\n",
       "      <td>...</td>\n",
       "      <td>...</td>\n",
       "    </tr>\n",
       "    <tr>\n",
       "      <th>18539</th>\n",
       "      <td>1.620000e+18</td>\n",
       "      <td>2023-02-10 02:44:56 SE Asia Standard Time</td>\n",
       "      <td>2/10/2023</td>\n",
       "      <td>2:44:56</td>\n",
       "      <td>1.340000e+18</td>\n",
       "      <td>mandocrypto1</td>\n",
       "      <td>@WendyWenwitch @Daveboxer5 @IkebukuroIce If yo...</td>\n",
       "      <td>en</td>\n",
       "      <td>0</td>\n",
       "      <td>0</td>\n",
       "      <td>4</td>\n",
       "      <td>[]</td>\n",
       "      <td>SE</td>\n",
       "    </tr>\n",
       "    <tr>\n",
       "      <th>18553</th>\n",
       "      <td>1.620000e+18</td>\n",
       "      <td>2023-02-10 02:44:01 SE Asia Standard Time</td>\n",
       "      <td>2/10/2023</td>\n",
       "      <td>2:44:01</td>\n",
       "      <td>1.340000e+18</td>\n",
       "      <td>phwulfe</td>\n",
       "      <td>@joshtpm I've wondered why Islamic extremists ...</td>\n",
       "      <td>en</td>\n",
       "      <td>1</td>\n",
       "      <td>0</td>\n",
       "      <td>4</td>\n",
       "      <td>[]</td>\n",
       "      <td>SE</td>\n",
       "    </tr>\n",
       "    <tr>\n",
       "      <th>18618</th>\n",
       "      <td>1.620000e+18</td>\n",
       "      <td>2023-02-10 02:40:58 SE Asia Standard Time</td>\n",
       "      <td>2/10/2023</td>\n",
       "      <td>2:40:58</td>\n",
       "      <td>1.340000e+18</td>\n",
       "      <td>jebrennt</td>\n",
       "      <td>@ClownWorld_ Muslims wouldn’t tolerate this shit</td>\n",
       "      <td>en</td>\n",
       "      <td>0</td>\n",
       "      <td>0</td>\n",
       "      <td>0</td>\n",
       "      <td>[]</td>\n",
       "      <td>SE</td>\n",
       "    </tr>\n",
       "    <tr>\n",
       "      <th>19808</th>\n",
       "      <td>1.620000e+18</td>\n",
       "      <td>2023-02-10 01:43:46 SE Asia Standard Time</td>\n",
       "      <td>2/10/2023</td>\n",
       "      <td>1:43:46</td>\n",
       "      <td>1.340000e+18</td>\n",
       "      <td>drahmedjaved3</td>\n",
       "      <td>@HabibKhanT Hate both of xtremes- people with ...</td>\n",
       "      <td>en</td>\n",
       "      <td>0</td>\n",
       "      <td>0</td>\n",
       "      <td>1</td>\n",
       "      <td>[]</td>\n",
       "      <td>SE</td>\n",
       "    </tr>\n",
       "    <tr>\n",
       "      <th>19955</th>\n",
       "      <td>1.620000e+18</td>\n",
       "      <td>2023-02-10 01:36:59 SE Asia Standard Time</td>\n",
       "      <td>2/10/2023</td>\n",
       "      <td>1:36:59</td>\n",
       "      <td>1.340000e+18</td>\n",
       "      <td>sheryar__sahak</td>\n",
       "      <td>@RussianEmbassy @MchsRussia @mod_russia @mfa_r...</td>\n",
       "      <td>en</td>\n",
       "      <td>0</td>\n",
       "      <td>0</td>\n",
       "      <td>2</td>\n",
       "      <td>[]</td>\n",
       "      <td>SE</td>\n",
       "    </tr>\n",
       "  </tbody>\n",
       "</table>\n",
       "<p>128 rows × 13 columns</p>\n",
       "</div>"
      ],
      "text/plain": [
       "       conversation_id                                 created_at       date  \\\n",
       "208       1.620000e+18  2023-02-10 19:51:03 SE Asia Standard Time  2/10/2023   \n",
       "218       1.620000e+18  2023-02-10 19:50:35 SE Asia Standard Time  2/10/2023   \n",
       "326       1.620000e+18  2023-02-10 19:45:12 SE Asia Standard Time  2/10/2023   \n",
       "416       1.620000e+18  2023-02-10 19:41:06 SE Asia Standard Time  2/10/2023   \n",
       "958       1.620000e+18  2023-02-10 19:19:02 SE Asia Standard Time  2/10/2023   \n",
       "...                ...                                        ...        ...   \n",
       "18539     1.620000e+18  2023-02-10 02:44:56 SE Asia Standard Time  2/10/2023   \n",
       "18553     1.620000e+18  2023-02-10 02:44:01 SE Asia Standard Time  2/10/2023   \n",
       "18618     1.620000e+18  2023-02-10 02:40:58 SE Asia Standard Time  2/10/2023   \n",
       "19808     1.620000e+18  2023-02-10 01:43:46 SE Asia Standard Time  2/10/2023   \n",
       "19955     1.620000e+18  2023-02-10 01:36:59 SE Asia Standard Time  2/10/2023   \n",
       "\n",
       "           time       user_id         username  \\\n",
       "208    19:51:03  1.340000e+18          sooshuv   \n",
       "218    19:50:35  1.340000e+18  khale_shreyansh   \n",
       "326    19:45:12  1.340000e+18  toriatheisttori   \n",
       "416    19:41:06  1.340000e+18  proudin20713821   \n",
       "958    19:19:02  1.340000e+18    theesnowch1ld   \n",
       "...         ...           ...              ...   \n",
       "18539   2:44:56  1.340000e+18     mandocrypto1   \n",
       "18553   2:44:01  1.340000e+18          phwulfe   \n",
       "18618   2:40:58  1.340000e+18         jebrennt   \n",
       "19808   1:43:46  1.340000e+18    drahmedjaved3   \n",
       "19955   1:36:59  1.340000e+18   sheryar__sahak   \n",
       "\n",
       "                                                   tweet language  \\\n",
       "208    And when I say muslims are dangerous for this ...       en   \n",
       "218    @IAMCouncil Why should anyone entertain anythi...       en   \n",
       "326    @Mercy20099 @SaltyDawg49 Thats the most stupid...       en   \n",
       "416    @anjanaomkashyap @chitraaum @sudhirchaudhary @...       en   \n",
       "958    muslims who live in europe please can stfu yal...       en   \n",
       "...                                                  ...      ...   \n",
       "18539  @WendyWenwitch @Daveboxer5 @IkebukuroIce If yo...       en   \n",
       "18553  @joshtpm I've wondered why Islamic extremists ...       en   \n",
       "18618   @ClownWorld_ Muslims wouldn’t tolerate this shit       en   \n",
       "19808  @HabibKhanT Hate both of xtremes- people with ...       en   \n",
       "19955  @RussianEmbassy @MchsRussia @mod_russia @mfa_r...       en   \n",
       "\n",
       "       replies_count  retweets_count  likes_count hashtags region  \n",
       "208                0               0            0       []     SE  \n",
       "218                0               0            0       []     SE  \n",
       "326                1               0            1       []     SE  \n",
       "416                0               0            0       []     SE  \n",
       "958                0               0            0       []     SE  \n",
       "...              ...             ...          ...      ...    ...  \n",
       "18539              0               0            4       []     SE  \n",
       "18553              1               0            4       []     SE  \n",
       "18618              0               0            0       []     SE  \n",
       "19808              0               0            1       []     SE  \n",
       "19955              0               0            2       []     SE  \n",
       "\n",
       "[128 rows x 13 columns]"
      ]
     },
     "execution_count": 130,
     "metadata": {},
     "output_type": "execute_result"
    }
   ],
   "source": [
    "new_df2 = df_copy[df_copy['user_id'] == df_copy['user_id'][9944]]\n",
    "new_df2"
   ]
  },
  {
   "cell_type": "code",
   "execution_count": 141,
   "id": "c2425152",
   "metadata": {},
   "outputs": [
    {
     "data": {
      "text/html": [
       "<div>\n",
       "<style scoped>\n",
       "    .dataframe tbody tr th:only-of-type {\n",
       "        vertical-align: middle;\n",
       "    }\n",
       "\n",
       "    .dataframe tbody tr th {\n",
       "        vertical-align: top;\n",
       "    }\n",
       "\n",
       "    .dataframe thead th {\n",
       "        text-align: right;\n",
       "    }\n",
       "</style>\n",
       "<table border=\"1\" class=\"dataframe\">\n",
       "  <thead>\n",
       "    <tr style=\"text-align: right;\">\n",
       "      <th></th>\n",
       "      <th>conversation_id</th>\n",
       "      <th>created_at</th>\n",
       "      <th>date</th>\n",
       "      <th>time</th>\n",
       "      <th>user_id</th>\n",
       "      <th>username</th>\n",
       "      <th>tweet</th>\n",
       "      <th>language</th>\n",
       "      <th>replies_count</th>\n",
       "      <th>retweets_count</th>\n",
       "      <th>likes_count</th>\n",
       "      <th>hashtags</th>\n",
       "      <th>region</th>\n",
       "    </tr>\n",
       "  </thead>\n",
       "  <tbody>\n",
       "  </tbody>\n",
       "</table>\n",
       "</div>"
      ],
      "text/plain": [
       "Empty DataFrame\n",
       "Columns: [conversation_id, created_at, date, time, user_id, username, tweet, language, replies_count, retweets_count, likes_count, hashtags, region]\n",
       "Index: []"
      ]
     },
     "execution_count": 141,
     "metadata": {},
     "output_type": "execute_result"
    }
   ],
   "source": [
    "new_df2 = df_copy[df_copy['user_id'] == testing['user_id'][2]]\n",
    "new_df2"
   ]
  },
  {
   "cell_type": "code",
   "execution_count": null,
   "id": "6325371c",
   "metadata": {},
   "outputs": [],
   "source": []
  },
  {
   "cell_type": "code",
   "execution_count": 137,
   "id": "2c83d6cb",
   "metadata": {},
   "outputs": [
    {
     "data": {
      "text/plain": [
       "1.34e+18"
      ]
     },
     "execution_count": 137,
     "metadata": {},
     "output_type": "execute_result"
    }
   ],
   "source": [
    "df_copy['user_id'][9944].astype('double')"
   ]
  },
  {
   "cell_type": "code",
   "execution_count": 140,
   "id": "e17473fc",
   "metadata": {},
   "outputs": [
    {
     "data": {
      "text/plain": [
       "username\n",
       "ayshertoo_muhd     2.680000e+18\n",
       "ani                3.559891e+08\n",
       "amymek             2.862373e+09\n",
       "imtiazmadmood      3.712000e+18\n",
       "jihadwatchrs       1.398981e+08\n",
       "theoholiic         1.185800e+20\n",
       "littleboats2020    1.290000e+18\n",
       "thetweetofrhea     6.289637e+09\n",
       "nogulagsagain      2.680000e+18\n",
       "iamcouncil         1.831562e+09\n",
       "Name: user_id, dtype: float64"
      ]
     },
     "execution_count": 140,
     "metadata": {},
     "output_type": "execute_result"
    }
   ],
   "source": [
    "testing['user_id']"
   ]
  },
  {
   "cell_type": "code",
   "execution_count": 98,
   "id": "3602ad2d",
   "metadata": {},
   "outputs": [
    {
     "data": {
      "text/html": [
       "<div>\n",
       "<style scoped>\n",
       "    .dataframe tbody tr th:only-of-type {\n",
       "        vertical-align: middle;\n",
       "    }\n",
       "\n",
       "    .dataframe tbody tr th {\n",
       "        vertical-align: top;\n",
       "    }\n",
       "\n",
       "    .dataframe thead th {\n",
       "        text-align: right;\n",
       "    }\n",
       "</style>\n",
       "<table border=\"1\" class=\"dataframe\">\n",
       "  <thead>\n",
       "    <tr style=\"text-align: right;\">\n",
       "      <th></th>\n",
       "      <th>user_id</th>\n",
       "    </tr>\n",
       "  </thead>\n",
       "  <tbody>\n",
       "  </tbody>\n",
       "</table>\n",
       "</div>"
      ],
      "text/plain": [
       "Empty DataFrame\n",
       "Columns: [user_id]\n",
       "Index: []"
      ]
     },
     "execution_count": 98,
     "metadata": {},
     "output_type": "execute_result"
    }
   ],
   "source": [
    "isnan = pd.DataFrame(pd.isna(df_copy['user_id'].where(df_copy['user_id'] == testing['user_id'][2])))\n",
    "isnan[isnan['user_id'] == False]"
   ]
  },
  {
   "cell_type": "code",
   "execution_count": 9,
   "id": "720da168",
   "metadata": {},
   "outputs": [
    {
     "data": {
      "text/plain": [
       "(20004, 36)"
      ]
     },
     "execution_count": 9,
     "metadata": {},
     "output_type": "execute_result"
    }
   ],
   "source": [
    "df_copy.shape"
   ]
  },
  {
   "cell_type": "code",
   "execution_count": 10,
   "id": "33b9456f",
   "metadata": {},
   "outputs": [
    {
     "data": {
      "text/plain": [
       "Index(['id', 'conversation_id', 'created_at', 'date', 'time', 'timezone',\n",
       "       'user_id', 'username', 'name', 'place', 'tweet', 'language', 'mentions',\n",
       "       'urls', 'photos', 'replies_count', 'retweets_count', 'likes_count',\n",
       "       'hashtags', 'cashtags', 'link', 'retweet', 'quote_url', 'video',\n",
       "       'thumbnail', 'near', 'geo', 'source', 'user_rt_id', 'user_rt',\n",
       "       'retweet_id', 'reply_to', 'retweet_date', 'translate', 'trans_src',\n",
       "       'trans_dest'],\n",
       "      dtype='object')"
      ]
     },
     "execution_count": 10,
     "metadata": {},
     "output_type": "execute_result"
    }
   ],
   "source": [
    "df_copy.columns"
   ]
  },
  {
   "cell_type": "code",
   "execution_count": 11,
   "id": "519766d9",
   "metadata": {},
   "outputs": [
    {
     "data": {
      "text/plain": [
       "array(['en', 'et', 'in', 'ar', 'fr', 'tl', 'hi', 'sv', 'und', 'ps', 'ur',\n",
       "       'kn', 'zxx', 'ro', 'cy', 'tr', 'qme', 'ja', 'de', 'ca', 'am', 'bn',\n",
       "       'es', 'ht', 'ta', 'qam', 'da', 'fa', 'no', 'qht', 'pl', 'nl', 'pt',\n",
       "       'gu', 'it', 'fi', 'art', 'te', 'qst', 'sl', 'is', 'mr', 'si', 'zh',\n",
       "       'lv', 'ckb', 'cs', 'eu', 'lt', 'th'], dtype=object)"
      ]
     },
     "execution_count": 11,
     "metadata": {},
     "output_type": "execute_result"
    }
   ],
   "source": [
    "df['language'].unique()"
   ]
  },
  {
   "cell_type": "code",
   "execution_count": 12,
   "id": "d1c550ae",
   "metadata": {},
   "outputs": [
    {
     "data": {
      "text/html": [
       "<div>\n",
       "<style scoped>\n",
       "    .dataframe tbody tr th:only-of-type {\n",
       "        vertical-align: middle;\n",
       "    }\n",
       "\n",
       "    .dataframe tbody tr th {\n",
       "        vertical-align: top;\n",
       "    }\n",
       "\n",
       "    .dataframe thead th {\n",
       "        text-align: right;\n",
       "    }\n",
       "</style>\n",
       "<table border=\"1\" class=\"dataframe\">\n",
       "  <thead>\n",
       "    <tr style=\"text-align: right;\">\n",
       "      <th></th>\n",
       "      <th>id</th>\n",
       "      <th>conversation_id</th>\n",
       "      <th>created_at</th>\n",
       "      <th>date</th>\n",
       "      <th>time</th>\n",
       "      <th>timezone</th>\n",
       "      <th>user_id</th>\n",
       "      <th>username</th>\n",
       "      <th>name</th>\n",
       "      <th>place</th>\n",
       "      <th>...</th>\n",
       "      <th>geo</th>\n",
       "      <th>source</th>\n",
       "      <th>user_rt_id</th>\n",
       "      <th>user_rt</th>\n",
       "      <th>retweet_id</th>\n",
       "      <th>reply_to</th>\n",
       "      <th>retweet_date</th>\n",
       "      <th>translate</th>\n",
       "      <th>trans_src</th>\n",
       "      <th>trans_dest</th>\n",
       "    </tr>\n",
       "  </thead>\n",
       "  <tbody>\n",
       "  </tbody>\n",
       "</table>\n",
       "<p>0 rows × 36 columns</p>\n",
       "</div>"
      ],
      "text/plain": [
       "Empty DataFrame\n",
       "Columns: [id, conversation_id, created_at, date, time, timezone, user_id, username, name, place, tweet, language, mentions, urls, photos, replies_count, retweets_count, likes_count, hashtags, cashtags, link, retweet, quote_url, video, thumbnail, near, geo, source, user_rt_id, user_rt, retweet_id, reply_to, retweet_date, translate, trans_src, trans_dest]\n",
       "Index: []\n",
       "\n",
       "[0 rows x 36 columns]"
      ]
     },
     "execution_count": 12,
     "metadata": {},
     "output_type": "execute_result"
    }
   ],
   "source": [
    "df[df.duplicated()]"
   ]
  },
  {
   "cell_type": "code",
   "execution_count": 13,
   "id": "3581255e",
   "metadata": {},
   "outputs": [
    {
     "data": {
      "text/plain": [
       "<AxesSubplot: xlabel='count', ylabel='language'>"
      ]
     },
     "execution_count": 13,
     "metadata": {},
     "output_type": "execute_result"
    },
    {
     "data": {
      "image/png": "[encoded data removed]",
      "text/plain": [
       "<Figure size 1200x1200 with 1 Axes>"
      ]
     },
     "metadata": {},
     "output_type": "display_data"
    }
   ],
   "source": [
    "fig, ax = plt.subplots(1,1, figsize = (12,12))\n",
    "\n",
    "sns.countplot(data = df, y = 'language', ax = ax, order = df['language'].value_counts().index)"
   ]
  },
  {
   "cell_type": "markdown",
   "id": "c1a11b9e",
   "metadata": {},
   "source": [
    "Berdasarkan plot tersebut, kita mungkin hanya memerlukan bahasa en saja mengingat mungkin bahasa tersebut yang mungkin dapat dibaca. Selain itu, kedua bahasa tersebut menunjukkan banyak jumlah yang timpang dengan yang lain"
   ]
  },
  {
   "cell_type": "code",
   "execution_count": 14,
   "id": "286596f6",
   "metadata": {},
   "outputs": [],
   "source": [
    "df_copy = pipeline(df_copy)"
   ]
  },
  {
   "cell_type": "code",
   "execution_count": 15,
   "id": "58e27a63",
   "metadata": {},
   "outputs": [
    {
     "name": "stdout",
     "output_type": "stream",
     "text": [
      "kolom : Index(['conversation_id', 'created_at', 'date', 'time', 'user_id', 'username',\n",
      "       'tweet', 'language', 'replies_count', 'retweets_count', 'likes_count',\n",
      "       'hashtags', 'region'],\n",
      "      dtype='object')\n"
     ]
    }
   ],
   "source": [
    "print('kolom : {}'.format(df_copy.columns))"
   ]
  },
  {
   "cell_type": "code",
   "execution_count": 16,
   "id": "9116063e",
   "metadata": {},
   "outputs": [
    {
     "data": {
      "text/plain": [
       "array(['SE'], dtype=object)"
      ]
     },
     "execution_count": 16,
     "metadata": {},
     "output_type": "execute_result"
    }
   ],
   "source": [
    "df_copy.region.unique()"
   ]
  },
  {
   "cell_type": "markdown",
   "id": "1fb0b7e7",
   "metadata": {},
   "source": [
    "Berdasarkan informasi di atas, kita dapat mengetahui bahwa data tweet yang kita gunakan hanya terdiri dari user yang ada di southeast"
   ]
  },
  {
   "cell_type": "code",
   "execution_count": 18,
   "id": "27d43447",
   "metadata": {},
   "outputs": [
    {
     "ename": "KeyError",
     "evalue": "5",
     "output_type": "error",
     "traceback": [
      "\u001b[1;31m---------------------------------------------------------------------------\u001b[0m",
      "\u001b[1;31mKeyError\u001b[0m                                  Traceback (most recent call last)",
      "\u001b[1;32m~\\anaconda3\\lib\\site-packages\\pandas\\core\\indexes\\base.py\u001b[0m in \u001b[0;36mget_loc\u001b[1;34m(self, key, method, tolerance)\u001b[0m\n\u001b[0;32m   3802\u001b[0m             \u001b[1;32mtry\u001b[0m\u001b[1;33m:\u001b[0m\u001b[1;33m\u001b[0m\u001b[1;33m\u001b[0m\u001b[0m\n\u001b[1;32m-> 3803\u001b[1;33m                 \u001b[1;32mreturn\u001b[0m \u001b[0mself\u001b[0m\u001b[1;33m.\u001b[0m\u001b[0m_engine\u001b[0m\u001b[1;33m.\u001b[0m\u001b[0mget_loc\u001b[0m\u001b[1;33m(\u001b[0m\u001b[0mcasted_key\u001b[0m\u001b[1;33m)\u001b[0m\u001b[1;33m\u001b[0m\u001b[1;33m\u001b[0m\u001b[0m\n\u001b[0m\u001b[0;32m   3804\u001b[0m             \u001b[1;32mexcept\u001b[0m \u001b[0mKeyError\u001b[0m \u001b[1;32mas\u001b[0m \u001b[0merr\u001b[0m\u001b[1;33m:\u001b[0m\u001b[1;33m\u001b[0m\u001b[1;33m\u001b[0m\u001b[0m\n",
      "\u001b[1;32m~\\anaconda3\\lib\\site-packages\\pandas\\_libs\\index.pyx\u001b[0m in \u001b[0;36mpandas._libs.index.IndexEngine.get_loc\u001b[1;34m()\u001b[0m\n",
      "\u001b[1;32m~\\anaconda3\\lib\\site-packages\\pandas\\_libs\\index.pyx\u001b[0m in \u001b[0;36mpandas._libs.index.IndexEngine.get_loc\u001b[1;34m()\u001b[0m\n",
      "\u001b[1;32mpandas\\_libs\\hashtable_class_helper.pxi\u001b[0m in \u001b[0;36mpandas._libs.hashtable.Float64HashTable.get_item\u001b[1;34m()\u001b[0m\n",
      "\u001b[1;32mpandas\\_libs\\hashtable_class_helper.pxi\u001b[0m in \u001b[0;36mpandas._libs.hashtable.Float64HashTable.get_item\u001b[1;34m()\u001b[0m\n",
      "\u001b[1;31mKeyError\u001b[0m: 5.0",
      "\nThe above exception was the direct cause of the following exception:\n",
      "\u001b[1;31mKeyError\u001b[0m                                  Traceback (most recent call last)",
      "\u001b[1;32m~\\AppData\\Local\\Temp\\ipykernel_10384\\3962509310.py\u001b[0m in \u001b[0;36m<module>\u001b[1;34m\u001b[0m\n\u001b[1;32m----> 1\u001b[1;33m \u001b[0mhighest_tweet\u001b[0m\u001b[1;33m(\u001b[0m\u001b[0mdf_copy\u001b[0m\u001b[1;33m,\u001b[0m \u001b[1;34m'replies_count'\u001b[0m\u001b[1;33m,\u001b[0m \u001b[1;36m5\u001b[0m\u001b[1;33m)\u001b[0m\u001b[1;33m\u001b[0m\u001b[1;33m\u001b[0m\u001b[0m\n\u001b[0m",
      "\u001b[1;32m~\\AppData\\Local\\Temp\\ipykernel_10384\\2316477886.py\u001b[0m in \u001b[0;36mhighest_tweet\u001b[1;34m(df_copy, col, limit)\u001b[0m\n\u001b[0;32m      2\u001b[0m     \u001b[0mdf_copy_replies_sum\u001b[0m \u001b[1;33m=\u001b[0m \u001b[0mpd\u001b[0m\u001b[1;33m.\u001b[0m\u001b[0mDataFrame\u001b[0m\u001b[1;33m(\u001b[0m\u001b[0mdf_copy\u001b[0m\u001b[1;33m.\u001b[0m\u001b[0mgroupby\u001b[0m\u001b[1;33m(\u001b[0m\u001b[1;34m'user_id'\u001b[0m\u001b[1;33m)\u001b[0m\u001b[1;33m[\u001b[0m\u001b[0mcol\u001b[0m\u001b[1;33m]\u001b[0m\u001b[1;33m.\u001b[0m\u001b[0msum\u001b[0m\u001b[1;33m(\u001b[0m\u001b[1;33m)\u001b[0m\u001b[1;33m)\u001b[0m\u001b[1;33m.\u001b[0m\u001b[0msort_values\u001b[0m\u001b[1;33m(\u001b[0m\u001b[0mby\u001b[0m \u001b[1;33m=\u001b[0m \u001b[1;33m[\u001b[0m\u001b[0mcol\u001b[0m\u001b[1;33m]\u001b[0m\u001b[1;33m,\u001b[0m \u001b[0mascending\u001b[0m \u001b[1;33m=\u001b[0m \u001b[1;32mFalse\u001b[0m\u001b[1;33m)\u001b[0m\u001b[1;33m\u001b[0m\u001b[1;33m\u001b[0m\u001b[0m\n\u001b[0;32m      3\u001b[0m \u001b[1;33m\u001b[0m\u001b[0m\n\u001b[1;32m----> 4\u001b[1;33m     \u001b[0mhighest_tweet_replies\u001b[0m \u001b[1;33m=\u001b[0m \u001b[0mdf_copy_replies_sum\u001b[0m\u001b[1;33m[\u001b[0m\u001b[1;33m:\u001b[0m\u001b[0mlimit\u001b[0m\u001b[1;33m]\u001b[0m\u001b[1;33m\u001b[0m\u001b[1;33m\u001b[0m\u001b[0m\n\u001b[0m\u001b[0;32m      5\u001b[0m \u001b[1;33m\u001b[0m\u001b[0m\n\u001b[0;32m      6\u001b[0m     \u001b[0msns\u001b[0m\u001b[1;33m.\u001b[0m\u001b[0mbarplot\u001b[0m\u001b[1;33m(\u001b[0m\u001b[0mdata\u001b[0m \u001b[1;33m=\u001b[0m \u001b[0mhighest_tweet_replies\u001b[0m\u001b[1;33m,\u001b[0m \u001b[0my\u001b[0m \u001b[1;33m=\u001b[0m \u001b[0mhighest_tweet_replies\u001b[0m\u001b[1;33m.\u001b[0m\u001b[0mindex\u001b[0m\u001b[1;33m,\u001b[0m \u001b[0mx\u001b[0m \u001b[1;33m=\u001b[0m \u001b[0mcol\u001b[0m\u001b[1;33m,\u001b[0m \u001b[0morient\u001b[0m \u001b[1;33m=\u001b[0m \u001b[1;34m'h'\u001b[0m\u001b[1;33m)\u001b[0m\u001b[1;33m\u001b[0m\u001b[1;33m\u001b[0m\u001b[0m\n",
      "\u001b[1;32m~\\anaconda3\\lib\\site-packages\\pandas\\core\\frame.py\u001b[0m in \u001b[0;36m__getitem__\u001b[1;34m(self, key)\u001b[0m\n\u001b[0;32m   3775\u001b[0m                 \u001b[1;32mreturn\u001b[0m \u001b[0mself\u001b[0m\u001b[1;33m.\u001b[0m\u001b[0m_getitem_multilevel\u001b[0m\u001b[1;33m(\u001b[0m\u001b[0mkey\u001b[0m\u001b[1;33m)\u001b[0m\u001b[1;33m\u001b[0m\u001b[1;33m\u001b[0m\u001b[0m\n\u001b[0;32m   3776\u001b[0m         \u001b[1;31m# Do we have a slicer (on rows)?\u001b[0m\u001b[1;33m\u001b[0m\u001b[1;33m\u001b[0m\u001b[0m\n\u001b[1;32m-> 3777\u001b[1;33m         \u001b[0mindexer\u001b[0m \u001b[1;33m=\u001b[0m \u001b[0mconvert_to_index_sliceable\u001b[0m\u001b[1;33m(\u001b[0m\u001b[0mself\u001b[0m\u001b[1;33m,\u001b[0m \u001b[0mkey\u001b[0m\u001b[1;33m)\u001b[0m\u001b[1;33m\u001b[0m\u001b[1;33m\u001b[0m\u001b[0m\n\u001b[0m\u001b[0;32m   3778\u001b[0m         \u001b[1;32mif\u001b[0m \u001b[0mindexer\u001b[0m \u001b[1;32mis\u001b[0m \u001b[1;32mnot\u001b[0m \u001b[1;32mNone\u001b[0m\u001b[1;33m:\u001b[0m\u001b[1;33m\u001b[0m\u001b[1;33m\u001b[0m\u001b[0m\n\u001b[0;32m   3779\u001b[0m             \u001b[1;32mif\u001b[0m \u001b[0misinstance\u001b[0m\u001b[1;33m(\u001b[0m\u001b[0mindexer\u001b[0m\u001b[1;33m,\u001b[0m \u001b[0mnp\u001b[0m\u001b[1;33m.\u001b[0m\u001b[0mndarray\u001b[0m\u001b[1;33m)\u001b[0m\u001b[1;33m:\u001b[0m\u001b[1;33m\u001b[0m\u001b[1;33m\u001b[0m\u001b[0m\n",
      "\u001b[1;32m~\\anaconda3\\lib\\site-packages\\pandas\\core\\indexing.py\u001b[0m in \u001b[0;36mconvert_to_index_sliceable\u001b[1;34m(obj, key)\u001b[0m\n\u001b[0;32m   2492\u001b[0m     \u001b[0midx\u001b[0m \u001b[1;33m=\u001b[0m \u001b[0mobj\u001b[0m\u001b[1;33m.\u001b[0m\u001b[0mindex\u001b[0m\u001b[1;33m\u001b[0m\u001b[1;33m\u001b[0m\u001b[0m\n\u001b[0;32m   2493\u001b[0m     \u001b[1;32mif\u001b[0m \u001b[0misinstance\u001b[0m\u001b[1;33m(\u001b[0m\u001b[0mkey\u001b[0m\u001b[1;33m,\u001b[0m \u001b[0mslice\u001b[0m\u001b[1;33m)\u001b[0m\u001b[1;33m:\u001b[0m\u001b[1;33m\u001b[0m\u001b[1;33m\u001b[0m\u001b[0m\n\u001b[1;32m-> 2494\u001b[1;33m         \u001b[1;32mreturn\u001b[0m \u001b[0midx\u001b[0m\u001b[1;33m.\u001b[0m\u001b[0m_convert_slice_indexer\u001b[0m\u001b[1;33m(\u001b[0m\u001b[0mkey\u001b[0m\u001b[1;33m,\u001b[0m \u001b[0mkind\u001b[0m\u001b[1;33m=\u001b[0m\u001b[1;34m\"getitem\"\u001b[0m\u001b[1;33m,\u001b[0m \u001b[0mis_frame\u001b[0m\u001b[1;33m=\u001b[0m\u001b[1;32mTrue\u001b[0m\u001b[1;33m)\u001b[0m\u001b[1;33m\u001b[0m\u001b[1;33m\u001b[0m\u001b[0m\n\u001b[0m\u001b[0;32m   2495\u001b[0m \u001b[1;33m\u001b[0m\u001b[0m\n\u001b[0;32m   2496\u001b[0m     \u001b[1;32melif\u001b[0m \u001b[0misinstance\u001b[0m\u001b[1;33m(\u001b[0m\u001b[0mkey\u001b[0m\u001b[1;33m,\u001b[0m \u001b[0mstr\u001b[0m\u001b[1;33m)\u001b[0m\u001b[1;33m:\u001b[0m\u001b[1;33m\u001b[0m\u001b[1;33m\u001b[0m\u001b[0m\n",
      "\u001b[1;32m~\\anaconda3\\lib\\site-packages\\pandas\\core\\indexes\\numeric.py\u001b[0m in \u001b[0;36m_convert_slice_indexer\u001b[1;34m(self, key, kind, is_frame)\u001b[0m\n\u001b[0;32m    230\u001b[0m             \u001b[1;31m# We always treat __getitem__ slicing as label-based\u001b[0m\u001b[1;33m\u001b[0m\u001b[1;33m\u001b[0m\u001b[0m\n\u001b[0;32m    231\u001b[0m             \u001b[1;31m# translate to locations\u001b[0m\u001b[1;33m\u001b[0m\u001b[1;33m\u001b[0m\u001b[0m\n\u001b[1;32m--> 232\u001b[1;33m             \u001b[1;32mreturn\u001b[0m \u001b[0mself\u001b[0m\u001b[1;33m.\u001b[0m\u001b[0mslice_indexer\u001b[0m\u001b[1;33m(\u001b[0m\u001b[0mkey\u001b[0m\u001b[1;33m.\u001b[0m\u001b[0mstart\u001b[0m\u001b[1;33m,\u001b[0m \u001b[0mkey\u001b[0m\u001b[1;33m.\u001b[0m\u001b[0mstop\u001b[0m\u001b[1;33m,\u001b[0m \u001b[0mkey\u001b[0m\u001b[1;33m.\u001b[0m\u001b[0mstep\u001b[0m\u001b[1;33m)\u001b[0m\u001b[1;33m\u001b[0m\u001b[1;33m\u001b[0m\u001b[0m\n\u001b[0m\u001b[0;32m    233\u001b[0m \u001b[1;33m\u001b[0m\u001b[0m\n\u001b[0;32m    234\u001b[0m         \u001b[1;32mreturn\u001b[0m \u001b[0msuper\u001b[0m\u001b[1;33m(\u001b[0m\u001b[1;33m)\u001b[0m\u001b[1;33m.\u001b[0m\u001b[0m_convert_slice_indexer\u001b[0m\u001b[1;33m(\u001b[0m\u001b[0mkey\u001b[0m\u001b[1;33m,\u001b[0m \u001b[0mkind\u001b[0m\u001b[1;33m=\u001b[0m\u001b[0mkind\u001b[0m\u001b[1;33m,\u001b[0m \u001b[0mis_frame\u001b[0m\u001b[1;33m=\u001b[0m\u001b[0mis_frame\u001b[0m\u001b[1;33m)\u001b[0m\u001b[1;33m\u001b[0m\u001b[1;33m\u001b[0m\u001b[0m\n",
      "\u001b[1;32m~\\anaconda3\\lib\\site-packages\\pandas\\core\\indexes\\base.py\u001b[0m in \u001b[0;36mslice_indexer\u001b[1;34m(self, start, end, step, kind)\u001b[0m\n\u001b[0;32m   6600\u001b[0m         \u001b[0mself\u001b[0m\u001b[1;33m.\u001b[0m\u001b[0m_deprecated_arg\u001b[0m\u001b[1;33m(\u001b[0m\u001b[0mkind\u001b[0m\u001b[1;33m,\u001b[0m \u001b[1;34m\"kind\"\u001b[0m\u001b[1;33m,\u001b[0m \u001b[1;34m\"slice_indexer\"\u001b[0m\u001b[1;33m)\u001b[0m\u001b[1;33m\u001b[0m\u001b[1;33m\u001b[0m\u001b[0m\n\u001b[0;32m   6601\u001b[0m \u001b[1;33m\u001b[0m\u001b[0m\n\u001b[1;32m-> 6602\u001b[1;33m         \u001b[0mstart_slice\u001b[0m\u001b[1;33m,\u001b[0m \u001b[0mend_slice\u001b[0m \u001b[1;33m=\u001b[0m \u001b[0mself\u001b[0m\u001b[1;33m.\u001b[0m\u001b[0mslice_locs\u001b[0m\u001b[1;33m(\u001b[0m\u001b[0mstart\u001b[0m\u001b[1;33m,\u001b[0m \u001b[0mend\u001b[0m\u001b[1;33m,\u001b[0m \u001b[0mstep\u001b[0m\u001b[1;33m=\u001b[0m\u001b[0mstep\u001b[0m\u001b[1;33m)\u001b[0m\u001b[1;33m\u001b[0m\u001b[1;33m\u001b[0m\u001b[0m\n\u001b[0m\u001b[0;32m   6603\u001b[0m \u001b[1;33m\u001b[0m\u001b[0m\n\u001b[0;32m   6604\u001b[0m         \u001b[1;31m# return a slice\u001b[0m\u001b[1;33m\u001b[0m\u001b[1;33m\u001b[0m\u001b[0m\n",
      "\u001b[1;32m~\\anaconda3\\lib\\site-packages\\pandas\\core\\indexes\\base.py\u001b[0m in \u001b[0;36mslice_locs\u001b[1;34m(self, start, end, step, kind)\u001b[0m\n\u001b[0;32m   6814\u001b[0m         \u001b[0mend_slice\u001b[0m \u001b[1;33m=\u001b[0m \u001b[1;32mNone\u001b[0m\u001b[1;33m\u001b[0m\u001b[1;33m\u001b[0m\u001b[0m\n\u001b[0;32m   6815\u001b[0m         \u001b[1;32mif\u001b[0m \u001b[0mend\u001b[0m \u001b[1;32mis\u001b[0m \u001b[1;32mnot\u001b[0m \u001b[1;32mNone\u001b[0m\u001b[1;33m:\u001b[0m\u001b[1;33m\u001b[0m\u001b[1;33m\u001b[0m\u001b[0m\n\u001b[1;32m-> 6816\u001b[1;33m             \u001b[0mend_slice\u001b[0m \u001b[1;33m=\u001b[0m \u001b[0mself\u001b[0m\u001b[1;33m.\u001b[0m\u001b[0mget_slice_bound\u001b[0m\u001b[1;33m(\u001b[0m\u001b[0mend\u001b[0m\u001b[1;33m,\u001b[0m \u001b[1;34m\"right\"\u001b[0m\u001b[1;33m)\u001b[0m\u001b[1;33m\u001b[0m\u001b[1;33m\u001b[0m\u001b[0m\n\u001b[0m\u001b[0;32m   6817\u001b[0m         \u001b[1;32mif\u001b[0m \u001b[0mend_slice\u001b[0m \u001b[1;32mis\u001b[0m \u001b[1;32mNone\u001b[0m\u001b[1;33m:\u001b[0m\u001b[1;33m\u001b[0m\u001b[1;33m\u001b[0m\u001b[0m\n\u001b[0;32m   6818\u001b[0m             \u001b[0mend_slice\u001b[0m \u001b[1;33m=\u001b[0m \u001b[0mlen\u001b[0m\u001b[1;33m(\u001b[0m\u001b[0mself\u001b[0m\u001b[1;33m)\u001b[0m\u001b[1;33m\u001b[0m\u001b[1;33m\u001b[0m\u001b[0m\n",
      "\u001b[1;32m~\\anaconda3\\lib\\site-packages\\pandas\\core\\indexes\\base.py\u001b[0m in \u001b[0;36mget_slice_bound\u001b[1;34m(self, label, side, kind)\u001b[0m\n\u001b[0;32m   6727\u001b[0m             \u001b[1;32mexcept\u001b[0m \u001b[0mValueError\u001b[0m\u001b[1;33m:\u001b[0m\u001b[1;33m\u001b[0m\u001b[1;33m\u001b[0m\u001b[0m\n\u001b[0;32m   6728\u001b[0m                 \u001b[1;31m# raise the original KeyError\u001b[0m\u001b[1;33m\u001b[0m\u001b[1;33m\u001b[0m\u001b[0m\n\u001b[1;32m-> 6729\u001b[1;33m                 \u001b[1;32mraise\u001b[0m \u001b[0merr\u001b[0m\u001b[1;33m\u001b[0m\u001b[1;33m\u001b[0m\u001b[0m\n\u001b[0m\u001b[0;32m   6730\u001b[0m \u001b[1;33m\u001b[0m\u001b[0m\n\u001b[0;32m   6731\u001b[0m         \u001b[1;32mif\u001b[0m \u001b[0misinstance\u001b[0m\u001b[1;33m(\u001b[0m\u001b[0mslc\u001b[0m\u001b[1;33m,\u001b[0m \u001b[0mnp\u001b[0m\u001b[1;33m.\u001b[0m\u001b[0mndarray\u001b[0m\u001b[1;33m)\u001b[0m\u001b[1;33m:\u001b[0m\u001b[1;33m\u001b[0m\u001b[1;33m\u001b[0m\u001b[0m\n",
      "\u001b[1;32m~\\anaconda3\\lib\\site-packages\\pandas\\core\\indexes\\base.py\u001b[0m in \u001b[0;36mget_slice_bound\u001b[1;34m(self, label, side, kind)\u001b[0m\n\u001b[0;32m   6721\u001b[0m         \u001b[1;31m# we need to look up the label\u001b[0m\u001b[1;33m\u001b[0m\u001b[1;33m\u001b[0m\u001b[0m\n\u001b[0;32m   6722\u001b[0m         \u001b[1;32mtry\u001b[0m\u001b[1;33m:\u001b[0m\u001b[1;33m\u001b[0m\u001b[1;33m\u001b[0m\u001b[0m\n\u001b[1;32m-> 6723\u001b[1;33m             \u001b[0mslc\u001b[0m \u001b[1;33m=\u001b[0m \u001b[0mself\u001b[0m\u001b[1;33m.\u001b[0m\u001b[0mget_loc\u001b[0m\u001b[1;33m(\u001b[0m\u001b[0mlabel\u001b[0m\u001b[1;33m)\u001b[0m\u001b[1;33m\u001b[0m\u001b[1;33m\u001b[0m\u001b[0m\n\u001b[0m\u001b[0;32m   6724\u001b[0m         \u001b[1;32mexcept\u001b[0m \u001b[0mKeyError\u001b[0m \u001b[1;32mas\u001b[0m \u001b[0merr\u001b[0m\u001b[1;33m:\u001b[0m\u001b[1;33m\u001b[0m\u001b[1;33m\u001b[0m\u001b[0m\n\u001b[0;32m   6725\u001b[0m             \u001b[1;32mtry\u001b[0m\u001b[1;33m:\u001b[0m\u001b[1;33m\u001b[0m\u001b[1;33m\u001b[0m\u001b[0m\n",
      "\u001b[1;32m~\\anaconda3\\lib\\site-packages\\pandas\\core\\indexes\\base.py\u001b[0m in \u001b[0;36mget_loc\u001b[1;34m(self, key, method, tolerance)\u001b[0m\n\u001b[0;32m   3803\u001b[0m                 \u001b[1;32mreturn\u001b[0m \u001b[0mself\u001b[0m\u001b[1;33m.\u001b[0m\u001b[0m_engine\u001b[0m\u001b[1;33m.\u001b[0m\u001b[0mget_loc\u001b[0m\u001b[1;33m(\u001b[0m\u001b[0mcasted_key\u001b[0m\u001b[1;33m)\u001b[0m\u001b[1;33m\u001b[0m\u001b[1;33m\u001b[0m\u001b[0m\n\u001b[0;32m   3804\u001b[0m             \u001b[1;32mexcept\u001b[0m \u001b[0mKeyError\u001b[0m \u001b[1;32mas\u001b[0m \u001b[0merr\u001b[0m\u001b[1;33m:\u001b[0m\u001b[1;33m\u001b[0m\u001b[1;33m\u001b[0m\u001b[0m\n\u001b[1;32m-> 3805\u001b[1;33m                 \u001b[1;32mraise\u001b[0m \u001b[0mKeyError\u001b[0m\u001b[1;33m(\u001b[0m\u001b[0mkey\u001b[0m\u001b[1;33m)\u001b[0m \u001b[1;32mfrom\u001b[0m \u001b[0merr\u001b[0m\u001b[1;33m\u001b[0m\u001b[1;33m\u001b[0m\u001b[0m\n\u001b[0m\u001b[0;32m   3806\u001b[0m             \u001b[1;32mexcept\u001b[0m \u001b[0mTypeError\u001b[0m\u001b[1;33m:\u001b[0m\u001b[1;33m\u001b[0m\u001b[1;33m\u001b[0m\u001b[0m\n\u001b[0;32m   3807\u001b[0m                 \u001b[1;31m# If we have a listlike key, _check_indexing_error will raise\u001b[0m\u001b[1;33m\u001b[0m\u001b[1;33m\u001b[0m\u001b[0m\n",
      "\u001b[1;31mKeyError\u001b[0m: 5"
     ]
    }
   ],
   "source": [
    "highest_tweet(df_copy, 'replies_count', 5)\n"
   ]
  },
  {
   "cell_type": "code",
   "execution_count": null,
   "id": "363962d8",
   "metadata": {},
   "outputs": [],
   "source": [
    "highest_tweet(df_copy, 'retweets_count', 20)\n"
   ]
  },
  {
   "cell_type": "code",
   "execution_count": null,
   "id": "c8a8debd",
   "metadata": {},
   "outputs": [],
   "source": [
    "highest_tweet(df_copy, 'likes_count', 20)\n"
   ]
  },
  {
   "cell_type": "code",
   "execution_count": null,
   "id": "199475cd",
   "metadata": {},
   "outputs": [],
   "source": [
    "df['username'].nunique(), df['user_id'].nunique()"
   ]
  },
  {
   "cell_type": "code",
   "execution_count": null,
   "id": "7bb74545",
   "metadata": {},
   "outputs": [],
   "source": [
    "df[df['user_id'] == df['user_id'][0]].username.value_counts()"
   ]
  }
 ],
 "metadata": {
  "kernelspec": {
   "display_name": "Python 3 (ipykernel)",
   "language": "python",
   "name": "python3"
  },
  "language_info": {
   "codemirror_mode": {
    "name": "ipython",
    "version": 3
   },
   "file_extension": ".py",
   "mimetype": "text/x-python",
   "name": "python",
   "nbconvert_exporter": "python",
   "pygments_lexer": "ipython3",
   "version": "3.9.16"
  }
 },
 "nbformat": 4,
 "nbformat_minor": 5
}
