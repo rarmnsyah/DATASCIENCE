{
 "cells": [
  {
   "cell_type": "markdown",
   "id": "1404d0fb",
   "metadata": {},
   "source": [
    "## Main Mega Project File\n",
    "Analisis Tweet yang mengandung berbagai kata dengan konteks islam. Tujuan awal saya membuat file ini adalah untuk mengetahui sentiment tweet yang ada pada twitter terhadap kata muslim. Selain itu, saya juga bertujuan untuk mencari kata yang sering dipadankan pada tweet berbau islam. Tujuan utama saya adalah ingin mengetahui seberapa tinggi / sering islam dibicarakan, dan bagaimana sentiment yang ada pada tweet tersebut. Akan tetapi, pada kesempatan awal ini, saya hanya akan menggunakan sekitar 20000 data dengan keywords muslim.\n",
    "\n",
    "Saya harap dengan adanya analisis ini, saya dapat berbagai pengetahuan mengenai pandangan dunia (khususnya warga twitter) terhadap muslimin / islam. Saya tahu bahwa data yang saya gunakan tergolong kecil, namun saya berniat untuk menambah datanya sedikit demi sedikit. Juga, semoga saya dapat menemukan celah dan \"something\" untuk dieksekusi.\n",
    "\n",
    "Pada file ini, kita akan melakukan beberapa hal terhadap data yang sudah kita scrapping. Data yang akan digunakan adalah data dari twit sebanyak 20000 dari twitter menggunakan api twint. 20000 baris data tersebut merupakan data dengan kandungan kata \"muslim\" dan merupakan 20000 twit terakhir.\n",
    "\n",
    "Perlu diingat juga, bahwa pada saat ini kita masih melakukan analisis hanya kepada tweet dengan bahasa english, mungkin nanti akan dikembangkan kembali. Akan tetapi, untuk saat ini, kita masih membatasi hal tersebut\n",
    "\n",
    "### Data Cleaning\n",
    "Data akan dibersihkan terlebih dahulu karena kita belum membutuhkan kebanyakan kolom yang tersedia. Seperti kolom id, urls, dsb. Pada proses ini saya akan membagi-baginya menjadi beberapa fungsi agar lebih mudah untuk dilihat."
   ]
  },
  {
   "cell_type": "code",
   "execution_count": 1,
   "id": "467fab3f",
   "metadata": {},
   "outputs": [],
   "source": [
    "# unhash kode program ini jika belum mempunyai stopwords atau vader_lexicon sesuai kebutuhan (english)\n",
    "\n",
    "import nltk \n",
    "# nltk.download('stopwords')\n",
    "# nltk.download('vader_lexicon')"
   ]
  },
  {
   "cell_type": "code",
   "execution_count": 2,
   "id": "16b56b64",
   "metadata": {},
   "outputs": [],
   "source": [
    "import os\n",
    "import numpy as np\n",
    "import pandas as pd\n",
    "import matplotlib as mpl\n",
    "import matplotlib.pyplot as plt\n",
    "import seaborn as sns\n",
    "import warnings\n",
    "import re\n",
    "import itertools\n",
    "import collections\n",
    "\n",
    "from nltk.corpus import stopwords\n",
    "from wordcloud import WordCloud\n",
    "\n",
    "warnings.filterwarnings('ignore')\n",
    "%matplotlib inline\n",
    "\n",
    "sns.set_style(\"whitegrid\")"
   ]
  },
  {
   "cell_type": "code",
   "execution_count": 3,
   "id": "f91af030",
   "metadata": {},
   "outputs": [],
   "source": [
    "# fungsi ini berguna untuk membuang kolom sesuai dengan kebutuhan kita\n",
    "\n",
    "def drop_columns(df):\n",
    "    base_col = [\n",
    "        'created_at', \n",
    "        'date', \n",
    "        'time', \n",
    "        'username', \n",
    "        'tweet', \n",
    "        'language', \n",
    "        'replies_count', \n",
    "        'retweets_count',\n",
    "        'likes_count',\n",
    "        'hashtags',\n",
    "        'user_id',\n",
    "        'conversation_id'\n",
    "        \n",
    "    ]\n",
    "    drop_col = diff(df.columns, base_col)\n",
    "    df_drop = df.drop(drop_col, axis = 1)\n",
    "    return df_drop"
   ]
  },
  {
   "cell_type": "code",
   "execution_count": 4,
   "id": "65dd2d6e",
   "metadata": {},
   "outputs": [],
   "source": [
    "#fungsi ini berfungsi sebagai pencari difference antar 2 list\n",
    "\n",
    "def diff(list1, list2):\n",
    "    c = set(list1).union(set(list2))  # or c = set(list1) | set(list2)\n",
    "    d = set(list1).intersection(set(list2))  # or d = set(list1) & set(list2)\n",
    "    return list(c - d)"
   ]
  },
  {
   "cell_type": "code",
   "execution_count": 5,
   "id": "982b78c2",
   "metadata": {},
   "outputs": [],
   "source": [
    "#fungsi yang akan memfilter dataset untuk bahasa tertentu saja\n",
    "\n",
    "def lang_only(df, lang):\n",
    "    df_lang = df[df['language'] == lang]\n",
    "    return df_lang"
   ]
  },
  {
   "cell_type": "code",
   "execution_count": 6,
   "id": "2f6b27b7",
   "metadata": {},
   "outputs": [],
   "source": [
    "#fungsi ini berfungsi untuk splitting data pada kolom created_at karena kita mungkin butuh tempat dimana  tweet tersebut dijalankan\n",
    "\n",
    "def created_at_split(df):\n",
    "    df_splitted = df.copy()\n",
    "    df_splitted['region'] = df_splitted['created_at'].apply(lambda x : x.split()[2])\n",
    "    return df_splitted"
   ]
  },
  {
   "cell_type": "code",
   "execution_count": 7,
   "id": "13226951",
   "metadata": {},
   "outputs": [],
   "source": [
    "#Fungsi ini berguna untuk menjalankan fungsi-fungsi di atas tersebut\n",
    "\n",
    "def pipeline(df):\n",
    "    df = drop_columns(df)\n",
    "    df = lang_only(df, 'en')    \n",
    "    df = created_at_split(df)\n",
    "    return df"
   ]
  },
  {
   "cell_type": "code",
   "execution_count": 8,
   "id": "3bda081f",
   "metadata": {
    "scrolled": false
   },
   "outputs": [
    {
     "data": {
      "text/html": [
       "<div>\n",
       "<style scoped>\n",
       "    .dataframe tbody tr th:only-of-type {\n",
       "        vertical-align: middle;\n",
       "    }\n",
       "\n",
       "    .dataframe tbody tr th {\n",
       "        vertical-align: top;\n",
       "    }\n",
       "\n",
       "    .dataframe thead th {\n",
       "        text-align: right;\n",
       "    }\n",
       "</style>\n",
       "<table border=\"1\" class=\"dataframe\">\n",
       "  <thead>\n",
       "    <tr style=\"text-align: right;\">\n",
       "      <th></th>\n",
       "      <th>id</th>\n",
       "      <th>conversation_id</th>\n",
       "      <th>created_at</th>\n",
       "      <th>date</th>\n",
       "      <th>time</th>\n",
       "      <th>timezone</th>\n",
       "      <th>user_id</th>\n",
       "      <th>username</th>\n",
       "      <th>name</th>\n",
       "      <th>place</th>\n",
       "      <th>...</th>\n",
       "      <th>geo</th>\n",
       "      <th>source</th>\n",
       "      <th>user_rt_id</th>\n",
       "      <th>user_rt</th>\n",
       "      <th>retweet_id</th>\n",
       "      <th>reply_to</th>\n",
       "      <th>retweet_date</th>\n",
       "      <th>translate</th>\n",
       "      <th>trans_src</th>\n",
       "      <th>trans_dest</th>\n",
       "    </tr>\n",
       "  </thead>\n",
       "  <tbody>\n",
       "    <tr>\n",
       "      <th>0</th>\n",
       "      <td>1.624410e+18</td>\n",
       "      <td>1.624410e+18</td>\n",
       "      <td>2023-02-11 21:23:46 SE Asia Standard Time</td>\n",
       "      <td>2/11/2023</td>\n",
       "      <td>21:23:46</td>\n",
       "      <td>700</td>\n",
       "      <td>1.523340e+18</td>\n",
       "      <td>yozora_glory</td>\n",
       "      <td>Waqar</td>\n",
       "      <td>NaN</td>\n",
       "      <td>...</td>\n",
       "      <td>NaN</td>\n",
       "      <td>NaN</td>\n",
       "      <td>NaN</td>\n",
       "      <td>NaN</td>\n",
       "      <td>NaN</td>\n",
       "      <td>[{'screen_name': 'xavierjp__', 'name': 'Xavier...</td>\n",
       "      <td>NaN</td>\n",
       "      <td>NaN</td>\n",
       "      <td>NaN</td>\n",
       "      <td>NaN</td>\n",
       "    </tr>\n",
       "    <tr>\n",
       "      <th>1</th>\n",
       "      <td>1.624410e+18</td>\n",
       "      <td>1.624380e+18</td>\n",
       "      <td>2023-02-11 21:23:46 SE Asia Standard Time</td>\n",
       "      <td>2/11/2023</td>\n",
       "      <td>21:23:46</td>\n",
       "      <td>700</td>\n",
       "      <td>3.293665e+09</td>\n",
       "      <td>svensktfornuft</td>\n",
       "      <td>Sunt Förnuft</td>\n",
       "      <td>NaN</td>\n",
       "      <td>...</td>\n",
       "      <td>NaN</td>\n",
       "      <td>NaN</td>\n",
       "      <td>NaN</td>\n",
       "      <td>NaN</td>\n",
       "      <td>NaN</td>\n",
       "      <td>[{'screen_name': 'J1965Jnsson', 'name': 'Rober...</td>\n",
       "      <td>NaN</td>\n",
       "      <td>NaN</td>\n",
       "      <td>NaN</td>\n",
       "      <td>NaN</td>\n",
       "    </tr>\n",
       "    <tr>\n",
       "      <th>2</th>\n",
       "      <td>1.624410e+18</td>\n",
       "      <td>1.624410e+18</td>\n",
       "      <td>2023-02-11 21:23:42 SE Asia Standard Time</td>\n",
       "      <td>2/11/2023</td>\n",
       "      <td>21:23:42</td>\n",
       "      <td>700</td>\n",
       "      <td>1.540170e+18</td>\n",
       "      <td>22liabirulangit</td>\n",
       "      <td>22Liabirulangit</td>\n",
       "      <td>NaN</td>\n",
       "      <td>...</td>\n",
       "      <td>NaN</td>\n",
       "      <td>NaN</td>\n",
       "      <td>NaN</td>\n",
       "      <td>NaN</td>\n",
       "      <td>NaN</td>\n",
       "      <td>[]</td>\n",
       "      <td>NaN</td>\n",
       "      <td>NaN</td>\n",
       "      <td>NaN</td>\n",
       "      <td>NaN</td>\n",
       "    </tr>\n",
       "    <tr>\n",
       "      <th>3</th>\n",
       "      <td>1.624410e+18</td>\n",
       "      <td>1.624360e+18</td>\n",
       "      <td>2023-02-11 21:23:42 SE Asia Standard Time</td>\n",
       "      <td>2/11/2023</td>\n",
       "      <td>21:23:42</td>\n",
       "      <td>700</td>\n",
       "      <td>1.552050e+18</td>\n",
       "      <td>mimii_sf</td>\n",
       "      <td>-</td>\n",
       "      <td>NaN</td>\n",
       "      <td>...</td>\n",
       "      <td>NaN</td>\n",
       "      <td>NaN</td>\n",
       "      <td>NaN</td>\n",
       "      <td>NaN</td>\n",
       "      <td>NaN</td>\n",
       "      <td>[{'screen_name': 'hdjakshzksbz', 'name': '✌', ...</td>\n",
       "      <td>NaN</td>\n",
       "      <td>NaN</td>\n",
       "      <td>NaN</td>\n",
       "      <td>NaN</td>\n",
       "    </tr>\n",
       "    <tr>\n",
       "      <th>4</th>\n",
       "      <td>1.624410e+18</td>\n",
       "      <td>1.624390e+18</td>\n",
       "      <td>2023-02-11 21:23:41 SE Asia Standard Time</td>\n",
       "      <td>2/11/2023</td>\n",
       "      <td>21:23:41</td>\n",
       "      <td>700</td>\n",
       "      <td>1.389540e+18</td>\n",
       "      <td>livetvarbedre</td>\n",
       "      <td>Det var bedre før pesten islam i DK.</td>\n",
       "      <td>NaN</td>\n",
       "      <td>...</td>\n",
       "      <td>NaN</td>\n",
       "      <td>NaN</td>\n",
       "      <td>NaN</td>\n",
       "      <td>NaN</td>\n",
       "      <td>NaN</td>\n",
       "      <td>[{'screen_name': 'Ikrmnsg', 'name': '🇩🇰 DANISH...</td>\n",
       "      <td>NaN</td>\n",
       "      <td>NaN</td>\n",
       "      <td>NaN</td>\n",
       "      <td>NaN</td>\n",
       "    </tr>\n",
       "  </tbody>\n",
       "</table>\n",
       "<p>5 rows × 36 columns</p>\n",
       "</div>"
      ],
      "text/plain": [
       "             id  conversation_id                                 created_at  \\\n",
       "0  1.624410e+18     1.624410e+18  2023-02-11 21:23:46 SE Asia Standard Time   \n",
       "1  1.624410e+18     1.624380e+18  2023-02-11 21:23:46 SE Asia Standard Time   \n",
       "2  1.624410e+18     1.624410e+18  2023-02-11 21:23:42 SE Asia Standard Time   \n",
       "3  1.624410e+18     1.624360e+18  2023-02-11 21:23:42 SE Asia Standard Time   \n",
       "4  1.624410e+18     1.624390e+18  2023-02-11 21:23:41 SE Asia Standard Time   \n",
       "\n",
       "        date      time  timezone       user_id         username  \\\n",
       "0  2/11/2023  21:23:46       700  1.523340e+18     yozora_glory   \n",
       "1  2/11/2023  21:23:46       700  3.293665e+09   svensktfornuft   \n",
       "2  2/11/2023  21:23:42       700  1.540170e+18  22liabirulangit   \n",
       "3  2/11/2023  21:23:42       700  1.552050e+18         mimii_sf   \n",
       "4  2/11/2023  21:23:41       700  1.389540e+18    livetvarbedre   \n",
       "\n",
       "                                   name place  ... geo source user_rt_id  \\\n",
       "0                                 Waqar   NaN  ... NaN    NaN        NaN   \n",
       "1                          Sunt Förnuft   NaN  ... NaN    NaN        NaN   \n",
       "2                       22Liabirulangit   NaN  ... NaN    NaN        NaN   \n",
       "3                                     -   NaN  ... NaN    NaN        NaN   \n",
       "4  Det var bedre før pesten islam i DK.   NaN  ... NaN    NaN        NaN   \n",
       "\n",
       "  user_rt retweet_id                                           reply_to  \\\n",
       "0     NaN        NaN  [{'screen_name': 'xavierjp__', 'name': 'Xavier...   \n",
       "1     NaN        NaN  [{'screen_name': 'J1965Jnsson', 'name': 'Rober...   \n",
       "2     NaN        NaN                                                 []   \n",
       "3     NaN        NaN  [{'screen_name': 'hdjakshzksbz', 'name': '✌', ...   \n",
       "4     NaN        NaN  [{'screen_name': 'Ikrmnsg', 'name': '🇩🇰 DANISH...   \n",
       "\n",
       "   retweet_date  translate trans_src trans_dest  \n",
       "0           NaN        NaN       NaN        NaN  \n",
       "1           NaN        NaN       NaN        NaN  \n",
       "2           NaN        NaN       NaN        NaN  \n",
       "3           NaN        NaN       NaN        NaN  \n",
       "4           NaN        NaN       NaN        NaN  \n",
       "\n",
       "[5 rows x 36 columns]"
      ]
     },
     "execution_count": 8,
     "metadata": {},
     "output_type": "execute_result"
    }
   ],
   "source": [
    "cwd = os.getcwd()\n",
    "data_path = os.path.join(cwd, 'databases', 'store_twit_islam.csv')\n",
    "\n",
    "df = pd.read_csv(data_path)\n",
    "df_copy = df.copy()\n",
    "\n",
    "df_copy.head()"
   ]
  },
  {
   "cell_type": "code",
   "execution_count": 9,
   "id": "720da168",
   "metadata": {},
   "outputs": [
    {
     "data": {
      "text/plain": [
       "(217943, 36)"
      ]
     },
     "execution_count": 9,
     "metadata": {},
     "output_type": "execute_result"
    }
   ],
   "source": [
    "df_copy.shape"
   ]
  },
  {
   "cell_type": "code",
   "execution_count": 10,
   "id": "33b9456f",
   "metadata": {},
   "outputs": [
    {
     "data": {
      "text/plain": [
       "Index(['id', 'conversation_id', 'created_at', 'date', 'time', 'timezone',\n",
       "       'user_id', 'username', 'name', 'place', 'tweet', 'language', 'mentions',\n",
       "       'urls', 'photos', 'replies_count', 'retweets_count', 'likes_count',\n",
       "       'hashtags', 'cashtags', 'link', 'retweet', 'quote_url', 'video',\n",
       "       'thumbnail', 'near', 'geo', 'source', 'user_rt_id', 'user_rt',\n",
       "       'retweet_id', 'reply_to', 'retweet_date', 'translate', 'trans_src',\n",
       "       'trans_dest'],\n",
       "      dtype='object')"
      ]
     },
     "execution_count": 10,
     "metadata": {},
     "output_type": "execute_result"
    }
   ],
   "source": [
    "df_copy.columns"
   ]
  },
  {
   "cell_type": "code",
   "execution_count": 11,
   "id": "519766d9",
   "metadata": {},
   "outputs": [
    {
     "data": {
      "text/plain": [
       "array(['en', 'sv', 'in', 'fr', 'da', 'qme', 'tl', 'tr', 'und', 'nl', 'ar',\n",
       "       'hi', 'et', 'de', 'ur', 'ja', 'bn', 'es', 'zxx', 'ca', 'fa', 'pt',\n",
       "       'ro', 'ht', 'is', 'no', 'qht', 'eu', 'ps', 'qst', 'qam', 'pl',\n",
       "       'art', 'fi', 'lt', 'cy', 'it', 'ru', 'gu', 'sl', 'hu', 'cs', 'mr',\n",
       "       'sd', 'vi', 'ta', 'ml', 'kn', 'my', 'am', 'ko', 'te', 'zh', 'lv',\n",
       "       'ckb', 'th', 'sr', 'uk', 'el', 'iw', 'ne', 'dv', 'si'],\n",
       "      dtype=object)"
      ]
     },
     "execution_count": 11,
     "metadata": {},
     "output_type": "execute_result"
    }
   ],
   "source": [
    "df['language'].unique()"
   ]
  },
  {
   "cell_type": "code",
   "execution_count": 12,
   "id": "3581255e",
   "metadata": {},
   "outputs": [
    {
     "data": {
      "text/plain": [
       "<AxesSubplot: xlabel='count', ylabel='language'>"
      ]
     },
     "execution_count": 12,
     "metadata": {},
     "output_type": "execute_result"
    },
    {
     "data": {
      "image/png": "[encoded data removed]",
      "text/plain": [
       "<Figure size 800x800 with 1 Axes>"
      ]
     },
     "metadata": {},
     "output_type": "display_data"
    }
   ],
   "source": [
    "fig, ax = plt.subplots(1,1, figsize = (8,8))\n",
    "\n",
    "sns.countplot(data = df, y = 'language', ax = ax, order = df['language'].value_counts().iloc[:10].index)"
   ]
  },
  {
   "cell_type": "markdown",
   "id": "c1a11b9e",
   "metadata": {},
   "source": [
    "Berdasarkan plot tersebut, kita mungkin hanya memerlukan bahasa en saja mengingat mungkin bahasa tersebut yang mungkin dapat dibaca. Selain itu, bahasa tersebut menunjukkan banyak jumlah yang timpang dengan yang lain. Seharusnya kita dapat langsung memfilter dari twint sendiri, namun sepertinya ada bug di library twint tersebut."
   ]
  },
  {
   "cell_type": "code",
   "execution_count": 13,
   "id": "d1c550ae",
   "metadata": {},
   "outputs": [
    {
     "data": {
      "text/html": [
       "<div>\n",
       "<style scoped>\n",
       "    .dataframe tbody tr th:only-of-type {\n",
       "        vertical-align: middle;\n",
       "    }\n",
       "\n",
       "    .dataframe tbody tr th {\n",
       "        vertical-align: top;\n",
       "    }\n",
       "\n",
       "    .dataframe thead th {\n",
       "        text-align: right;\n",
       "    }\n",
       "</style>\n",
       "<table border=\"1\" class=\"dataframe\">\n",
       "  <thead>\n",
       "    <tr style=\"text-align: right;\">\n",
       "      <th></th>\n",
       "      <th>id</th>\n",
       "      <th>conversation_id</th>\n",
       "      <th>created_at</th>\n",
       "      <th>date</th>\n",
       "      <th>time</th>\n",
       "      <th>timezone</th>\n",
       "      <th>user_id</th>\n",
       "      <th>username</th>\n",
       "      <th>name</th>\n",
       "      <th>place</th>\n",
       "      <th>...</th>\n",
       "      <th>geo</th>\n",
       "      <th>source</th>\n",
       "      <th>user_rt_id</th>\n",
       "      <th>user_rt</th>\n",
       "      <th>retweet_id</th>\n",
       "      <th>reply_to</th>\n",
       "      <th>retweet_date</th>\n",
       "      <th>translate</th>\n",
       "      <th>trans_src</th>\n",
       "      <th>trans_dest</th>\n",
       "    </tr>\n",
       "  </thead>\n",
       "  <tbody>\n",
       "  </tbody>\n",
       "</table>\n",
       "<p>0 rows × 36 columns</p>\n",
       "</div>"
      ],
      "text/plain": [
       "Empty DataFrame\n",
       "Columns: [id, conversation_id, created_at, date, time, timezone, user_id, username, name, place, tweet, language, mentions, urls, photos, replies_count, retweets_count, likes_count, hashtags, cashtags, link, retweet, quote_url, video, thumbnail, near, geo, source, user_rt_id, user_rt, retweet_id, reply_to, retweet_date, translate, trans_src, trans_dest]\n",
       "Index: []\n",
       "\n",
       "[0 rows x 36 columns]"
      ]
     },
     "execution_count": 13,
     "metadata": {},
     "output_type": "execute_result"
    }
   ],
   "source": [
    "df_copy[df_copy.duplicated()]"
   ]
  },
  {
   "cell_type": "markdown",
   "id": "e2f5d346",
   "metadata": {},
   "source": [
    "Terlihat bahwa tidak ada tweet yang terduplikasi"
   ]
  },
  {
   "cell_type": "code",
   "execution_count": 14,
   "id": "286596f6",
   "metadata": {},
   "outputs": [],
   "source": [
    "df_copy = pipeline(df_copy)"
   ]
  },
  {
   "cell_type": "code",
   "execution_count": 15,
   "id": "58e27a63",
   "metadata": {},
   "outputs": [
    {
     "data": {
      "text/html": [
       "<div>\n",
       "<style scoped>\n",
       "    .dataframe tbody tr th:only-of-type {\n",
       "        vertical-align: middle;\n",
       "    }\n",
       "\n",
       "    .dataframe tbody tr th {\n",
       "        vertical-align: top;\n",
       "    }\n",
       "\n",
       "    .dataframe thead th {\n",
       "        text-align: right;\n",
       "    }\n",
       "</style>\n",
       "<table border=\"1\" class=\"dataframe\">\n",
       "  <thead>\n",
       "    <tr style=\"text-align: right;\">\n",
       "      <th></th>\n",
       "      <th>conversation_id</th>\n",
       "      <th>created_at</th>\n",
       "      <th>date</th>\n",
       "      <th>time</th>\n",
       "      <th>user_id</th>\n",
       "      <th>username</th>\n",
       "      <th>tweet</th>\n",
       "      <th>language</th>\n",
       "      <th>replies_count</th>\n",
       "      <th>retweets_count</th>\n",
       "      <th>likes_count</th>\n",
       "      <th>hashtags</th>\n",
       "      <th>region</th>\n",
       "    </tr>\n",
       "  </thead>\n",
       "  <tbody>\n",
       "    <tr>\n",
       "      <th>0</th>\n",
       "      <td>1.624410e+18</td>\n",
       "      <td>2023-02-11 21:23:46 SE Asia Standard Time</td>\n",
       "      <td>2/11/2023</td>\n",
       "      <td>21:23:46</td>\n",
       "      <td>1.523340e+18</td>\n",
       "      <td>yozora_glory</td>\n",
       "      <td>@xavierjp__ Not to make any excuses for someon...</td>\n",
       "      <td>en</td>\n",
       "      <td>0</td>\n",
       "      <td>0</td>\n",
       "      <td>0</td>\n",
       "      <td>[]</td>\n",
       "      <td>SE</td>\n",
       "    </tr>\n",
       "    <tr>\n",
       "      <th>5</th>\n",
       "      <td>1.624220e+18</td>\n",
       "      <td>2023-02-11 21:23:41 SE Asia Standard Time</td>\n",
       "      <td>2/11/2023</td>\n",
       "      <td>21:23:41</td>\n",
       "      <td>1.607640e+18</td>\n",
       "      <td>sharifu35550584</td>\n",
       "      <td>@Muskanr98100617 Ok Send me your personal numb...</td>\n",
       "      <td>en</td>\n",
       "      <td>0</td>\n",
       "      <td>0</td>\n",
       "      <td>0</td>\n",
       "      <td>[]</td>\n",
       "      <td>SE</td>\n",
       "    </tr>\n",
       "    <tr>\n",
       "      <th>7</th>\n",
       "      <td>1.623750e+18</td>\n",
       "      <td>2023-02-11 21:23:40 SE Asia Standard Time</td>\n",
       "      <td>2/11/2023</td>\n",
       "      <td>21:23:40</td>\n",
       "      <td>1.327260e+18</td>\n",
       "      <td>bruhmp416</td>\n",
       "      <td>@Sofya52036368 @Cobratate Men thank Andrew Tat...</td>\n",
       "      <td>en</td>\n",
       "      <td>0</td>\n",
       "      <td>0</td>\n",
       "      <td>0</td>\n",
       "      <td>[]</td>\n",
       "      <td>SE</td>\n",
       "    </tr>\n",
       "    <tr>\n",
       "      <th>9</th>\n",
       "      <td>1.624410e+18</td>\n",
       "      <td>2023-02-11 21:23:36 SE Asia Standard Time</td>\n",
       "      <td>2/11/2023</td>\n",
       "      <td>21:23:36</td>\n",
       "      <td>9.178350e+17</td>\n",
       "      <td>raythinking</td>\n",
       "      <td>Org. Religion was built to benefit the elite, ...</td>\n",
       "      <td>en</td>\n",
       "      <td>1</td>\n",
       "      <td>0</td>\n",
       "      <td>0</td>\n",
       "      <td>[]</td>\n",
       "      <td>SE</td>\n",
       "    </tr>\n",
       "    <tr>\n",
       "      <th>10</th>\n",
       "      <td>1.624410e+18</td>\n",
       "      <td>2023-02-11 21:23:35 SE Asia Standard Time</td>\n",
       "      <td>2/11/2023</td>\n",
       "      <td>21:23:35</td>\n",
       "      <td>1.428350e+18</td>\n",
       "      <td>taha_wajahat</td>\n",
       "      <td>Every Muslim was given Islam in the form of Qu...</td>\n",
       "      <td>en</td>\n",
       "      <td>0</td>\n",
       "      <td>0</td>\n",
       "      <td>0</td>\n",
       "      <td>[]</td>\n",
       "      <td>SE</td>\n",
       "    </tr>\n",
       "  </tbody>\n",
       "</table>\n",
       "</div>"
      ],
      "text/plain": [
       "    conversation_id                                 created_at       date  \\\n",
       "0      1.624410e+18  2023-02-11 21:23:46 SE Asia Standard Time  2/11/2023   \n",
       "5      1.624220e+18  2023-02-11 21:23:41 SE Asia Standard Time  2/11/2023   \n",
       "7      1.623750e+18  2023-02-11 21:23:40 SE Asia Standard Time  2/11/2023   \n",
       "9      1.624410e+18  2023-02-11 21:23:36 SE Asia Standard Time  2/11/2023   \n",
       "10     1.624410e+18  2023-02-11 21:23:35 SE Asia Standard Time  2/11/2023   \n",
       "\n",
       "        time       user_id         username  \\\n",
       "0   21:23:46  1.523340e+18     yozora_glory   \n",
       "5   21:23:41  1.607640e+18  sharifu35550584   \n",
       "7   21:23:40  1.327260e+18        bruhmp416   \n",
       "9   21:23:36  9.178350e+17      raythinking   \n",
       "10  21:23:35  1.428350e+18     taha_wajahat   \n",
       "\n",
       "                                                tweet language  replies_count  \\\n",
       "0   @xavierjp__ Not to make any excuses for someon...       en              0   \n",
       "5   @Muskanr98100617 Ok Send me your personal numb...       en              0   \n",
       "7   @Sofya52036368 @Cobratate Men thank Andrew Tat...       en              0   \n",
       "9   Org. Religion was built to benefit the elite, ...       en              1   \n",
       "10  Every Muslim was given Islam in the form of Qu...       en              0   \n",
       "\n",
       "    retweets_count  likes_count hashtags region  \n",
       "0                0            0       []     SE  \n",
       "5                0            0       []     SE  \n",
       "7                0            0       []     SE  \n",
       "9                0            0       []     SE  \n",
       "10               0            0       []     SE  "
      ]
     },
     "execution_count": 15,
     "metadata": {},
     "output_type": "execute_result"
    }
   ],
   "source": [
    "df_copy.head()"
   ]
  },
  {
   "cell_type": "code",
   "execution_count": 16,
   "id": "9116063e",
   "metadata": {},
   "outputs": [
    {
     "data": {
      "text/plain": [
       "array(['SE'], dtype=object)"
      ]
     },
     "execution_count": 16,
     "metadata": {},
     "output_type": "execute_result"
    }
   ],
   "source": [
    "df_copy.region.unique()"
   ]
  },
  {
   "cell_type": "markdown",
   "id": "1fb0b7e7",
   "metadata": {},
   "source": [
    "Berdasarkan informasi di atas, kita dapat mengetahui bahwa data tweet yang kita gunakan hanya terdiri dari user yang ada di southeast"
   ]
  },
  {
   "cell_type": "markdown",
   "id": "f9bfd507",
   "metadata": {},
   "source": [
    "### Analysis Tweet\n",
    "Pada bagian ini, akan dilakukan beberapa visualisasi dan analisis dari tweet-tweet yang telah kita scrap."
   ]
  },
  {
   "cell_type": "code",
   "execution_count": 17,
   "id": "b19dccc1",
   "metadata": {},
   "outputs": [],
   "source": [
    "def highest_tweets(df_copy, col, limit):\n",
    "    df_copy_sum = pd.DataFrame(df_copy.groupby('username')[[col, 'user_id']].sum()).sort_values(by = [col], ascending = False)\n",
    "    \n",
    "    highest_tweet = df_copy_sum.iloc[:limit]\n",
    "\n",
    "    sns.barplot(data = highest_tweet, y = highest_tweet.index, x = col, orient = 'h')\n",
    "    \n",
    "    return highest_tweet"
   ]
  },
  {
   "cell_type": "code",
   "execution_count": 18,
   "id": "87f2e04d",
   "metadata": {},
   "outputs": [],
   "source": [
    "def remove_url(txt):\n",
    "    \"\"\"Replace URLs found in a text string with nothing \n",
    "    (i.e. it will remove the URL from the string).\n",
    "\n",
    "    Parameters\n",
    "    ----------\n",
    "    txt : string\n",
    "        A text string that you want to parse and remove urls.\n",
    "\n",
    "    Returns\n",
    "    -------\n",
    "    The same txt string with url's removed.\n",
    "    \"\"\"\n",
    "\n",
    "    return \" \".join(re.sub(\"([^0-9A-Za-z \\t])|(\\w+:\\/\\/\\S+)\", \"\", txt).split())"
   ]
  },
  {
   "cell_type": "code",
   "execution_count": 19,
   "id": "a30c3752",
   "metadata": {},
   "outputs": [],
   "source": [
    "def words_count(df):\n",
    "    words = []\n",
    "    \n",
    "    #menghapus segala bentuk huruf yang tidak diinginkan\n",
    "    df['tweet'] = df['tweet'].apply(lambda x : remove_url(x))\n",
    "\n",
    "    \n",
    "    #mengubah tiap kata pada tweet menjadi huruf kecil\n",
    "    df['tweet'] = df['tweet'].apply(lambda x : x.lower())\n",
    "    \n",
    "    #melakukan splitting word pada tiap tweet \n",
    "    words.append(df_copy['tweet'].apply(lambda x : x.split()))\n",
    "    \n",
    "    words = list(np.array(words).flatten())\n",
    "    \n",
    "    all_words = itertools.chain(*words)\n",
    "    \n",
    "    count_worlds = collections.Counter(all_words)\n",
    "    \n",
    "    return count_worlds\n"
   ]
  },
  {
   "cell_type": "code",
   "execution_count": 20,
   "id": "93f6b82d",
   "metadata": {},
   "outputs": [
    {
     "data": {
      "text/html": [
       "<div>\n",
       "<style scoped>\n",
       "    .dataframe tbody tr th:only-of-type {\n",
       "        vertical-align: middle;\n",
       "    }\n",
       "\n",
       "    .dataframe tbody tr th {\n",
       "        vertical-align: top;\n",
       "    }\n",
       "\n",
       "    .dataframe thead th {\n",
       "        text-align: right;\n",
       "    }\n",
       "</style>\n",
       "<table border=\"1\" class=\"dataframe\">\n",
       "  <thead>\n",
       "    <tr style=\"text-align: right;\">\n",
       "      <th></th>\n",
       "      <th>conversation_id</th>\n",
       "      <th>created_at</th>\n",
       "      <th>date</th>\n",
       "      <th>time</th>\n",
       "      <th>user_id</th>\n",
       "      <th>username</th>\n",
       "      <th>tweet</th>\n",
       "      <th>language</th>\n",
       "      <th>replies_count</th>\n",
       "      <th>retweets_count</th>\n",
       "      <th>likes_count</th>\n",
       "      <th>hashtags</th>\n",
       "      <th>region</th>\n",
       "    </tr>\n",
       "  </thead>\n",
       "  <tbody>\n",
       "    <tr>\n",
       "      <th>0</th>\n",
       "      <td>1.624410e+18</td>\n",
       "      <td>2023-02-11 21:23:46 SE Asia Standard Time</td>\n",
       "      <td>2/11/2023</td>\n",
       "      <td>21:23:46</td>\n",
       "      <td>1.523340e+18</td>\n",
       "      <td>yozora_glory</td>\n",
       "      <td>xavierjp Not to make any excuses for someone a...</td>\n",
       "      <td>en</td>\n",
       "      <td>0</td>\n",
       "      <td>0</td>\n",
       "      <td>0</td>\n",
       "      <td>[]</td>\n",
       "      <td>SE</td>\n",
       "    </tr>\n",
       "    <tr>\n",
       "      <th>5</th>\n",
       "      <td>1.624220e+18</td>\n",
       "      <td>2023-02-11 21:23:41 SE Asia Standard Time</td>\n",
       "      <td>2/11/2023</td>\n",
       "      <td>21:23:41</td>\n",
       "      <td>1.607640e+18</td>\n",
       "      <td>sharifu35550584</td>\n",
       "      <td>Muskanr98100617 Ok Send me your personal numbe...</td>\n",
       "      <td>en</td>\n",
       "      <td>0</td>\n",
       "      <td>0</td>\n",
       "      <td>0</td>\n",
       "      <td>[]</td>\n",
       "      <td>SE</td>\n",
       "    </tr>\n",
       "    <tr>\n",
       "      <th>7</th>\n",
       "      <td>1.623750e+18</td>\n",
       "      <td>2023-02-11 21:23:40 SE Asia Standard Time</td>\n",
       "      <td>2/11/2023</td>\n",
       "      <td>21:23:40</td>\n",
       "      <td>1.327260e+18</td>\n",
       "      <td>bruhmp416</td>\n",
       "      <td>Sofya52036368 Cobratate Men thank Andrew Tate ...</td>\n",
       "      <td>en</td>\n",
       "      <td>0</td>\n",
       "      <td>0</td>\n",
       "      <td>0</td>\n",
       "      <td>[]</td>\n",
       "      <td>SE</td>\n",
       "    </tr>\n",
       "    <tr>\n",
       "      <th>9</th>\n",
       "      <td>1.624410e+18</td>\n",
       "      <td>2023-02-11 21:23:36 SE Asia Standard Time</td>\n",
       "      <td>2/11/2023</td>\n",
       "      <td>21:23:36</td>\n",
       "      <td>9.178350e+17</td>\n",
       "      <td>raythinking</td>\n",
       "      <td>Org Religion was built to benefit the elite th...</td>\n",
       "      <td>en</td>\n",
       "      <td>1</td>\n",
       "      <td>0</td>\n",
       "      <td>0</td>\n",
       "      <td>[]</td>\n",
       "      <td>SE</td>\n",
       "    </tr>\n",
       "    <tr>\n",
       "      <th>10</th>\n",
       "      <td>1.624410e+18</td>\n",
       "      <td>2023-02-11 21:23:35 SE Asia Standard Time</td>\n",
       "      <td>2/11/2023</td>\n",
       "      <td>21:23:35</td>\n",
       "      <td>1.428350e+18</td>\n",
       "      <td>taha_wajahat</td>\n",
       "      <td>Every Muslim was given Islam in the form of Qu...</td>\n",
       "      <td>en</td>\n",
       "      <td>0</td>\n",
       "      <td>0</td>\n",
       "      <td>0</td>\n",
       "      <td>[]</td>\n",
       "      <td>SE</td>\n",
       "    </tr>\n",
       "  </tbody>\n",
       "</table>\n",
       "</div>"
      ],
      "text/plain": [
       "    conversation_id                                 created_at       date  \\\n",
       "0      1.624410e+18  2023-02-11 21:23:46 SE Asia Standard Time  2/11/2023   \n",
       "5      1.624220e+18  2023-02-11 21:23:41 SE Asia Standard Time  2/11/2023   \n",
       "7      1.623750e+18  2023-02-11 21:23:40 SE Asia Standard Time  2/11/2023   \n",
       "9      1.624410e+18  2023-02-11 21:23:36 SE Asia Standard Time  2/11/2023   \n",
       "10     1.624410e+18  2023-02-11 21:23:35 SE Asia Standard Time  2/11/2023   \n",
       "\n",
       "        time       user_id         username  \\\n",
       "0   21:23:46  1.523340e+18     yozora_glory   \n",
       "5   21:23:41  1.607640e+18  sharifu35550584   \n",
       "7   21:23:40  1.327260e+18        bruhmp416   \n",
       "9   21:23:36  9.178350e+17      raythinking   \n",
       "10  21:23:35  1.428350e+18     taha_wajahat   \n",
       "\n",
       "                                                tweet language  replies_count  \\\n",
       "0   xavierjp Not to make any excuses for someone a...       en              0   \n",
       "5   Muskanr98100617 Ok Send me your personal numbe...       en              0   \n",
       "7   Sofya52036368 Cobratate Men thank Andrew Tate ...       en              0   \n",
       "9   Org Religion was built to benefit the elite th...       en              1   \n",
       "10  Every Muslim was given Islam in the form of Qu...       en              0   \n",
       "\n",
       "    retweets_count  likes_count hashtags region  \n",
       "0                0            0       []     SE  \n",
       "5                0            0       []     SE  \n",
       "7                0            0       []     SE  \n",
       "9                0            0       []     SE  \n",
       "10               0            0       []     SE  "
      ]
     },
     "execution_count": 20,
     "metadata": {},
     "output_type": "execute_result"
    }
   ],
   "source": [
    "df_copy['tweet'] = df_copy['tweet'].apply(lambda x : remove_url(x))\n",
    "df_copy.head()"
   ]
  },
  {
   "cell_type": "code",
   "execution_count": 21,
   "id": "27d43447",
   "metadata": {},
   "outputs": [
    {
     "data": {
      "image/png": "[encoded data removed]",
      "text/plain": [
       "<Figure size 640x480 with 1 Axes>"
      ]
     },
     "metadata": {},
     "output_type": "display_data"
    }
   ],
   "source": [
    "top_user_id = []\n",
    "\n",
    "top_user_id.append(highest_tweets(df_copy, 'replies_count', 20))"
   ]
  },
  {
   "cell_type": "code",
   "execution_count": 22,
   "id": "363962d8",
   "metadata": {},
   "outputs": [
    {
     "data": {
      "image/png": "[encoded data removed]",
      "text/plain": [
       "<Figure size 640x480 with 1 Axes>"
      ]
     },
     "metadata": {},
     "output_type": "display_data"
    }
   ],
   "source": [
    "top_user_id.append(highest_tweets(df_copy, 'retweets_count', 20))\n"
   ]
  },
  {
   "cell_type": "code",
   "execution_count": 23,
   "id": "c8a8debd",
   "metadata": {},
   "outputs": [
    {
     "data": {
      "image/png": "[encoded data removed]",
      "text/plain": [
       "<Figure size 640x480 with 1 Axes>"
      ]
     },
     "metadata": {},
     "output_type": "display_data"
    }
   ],
   "source": [
    "top_user_id.append(highest_tweets(df_copy, 'likes_count', 20))\n"
   ]
  },
  {
   "cell_type": "code",
   "execution_count": 24,
   "id": "bcff147a",
   "metadata": {
    "scrolled": false
   },
   "outputs": [],
   "source": [
    "all_words = words_count(df_copy)\n",
    "key_words = ['muslims', 'muslim', 'islam', 'quran', 'isis']\n",
    "common_words = ['would', 'make', 'someone', 'case']\n",
    "\n",
    "stops = list(stopwords.words('english'))\n",
    "stops += key_words + common_words\n"
   ]
  },
  {
   "cell_type": "code",
   "execution_count": 25,
   "id": "533d0869",
   "metadata": {},
   "outputs": [
    {
     "data": {
      "text/plain": [
       "array([  8, 111,   1, ...,   1,   1,   1])"
      ]
     },
     "execution_count": 25,
     "metadata": {},
     "output_type": "execute_result"
    }
   ],
   "source": [
    "main_words = np.array([[word, int(all_words[word])] for word in all_words if word not in stops])\n",
    "counts = main_words[:, 1].astype('int')\n",
    "\n",
    "counts"
   ]
  },
  {
   "cell_type": "code",
   "execution_count": 26,
   "id": "9208db6f",
   "metadata": {},
   "outputs": [],
   "source": [
    "main_words = pd.DataFrame({\n",
    "    'words' : main_words[:, 0],\n",
    "    'counts' : counts\n",
    "})"
   ]
  },
  {
   "cell_type": "code",
   "execution_count": 27,
   "id": "351359cb",
   "metadata": {},
   "outputs": [
    {
     "data": {
      "text/plain": [
       "<AxesSubplot: xlabel='words', ylabel='counts'>"
      ]
     },
     "execution_count": 27,
     "metadata": {},
     "output_type": "execute_result"
    },
    {
     "data": {
      "image/png": "[encoded data removed]",
      "text/plain": [
       "<Figure size 640x480 with 1 Axes>"
      ]
     },
     "metadata": {},
     "output_type": "display_data"
    }
   ],
   "source": [
    "sns.barplot(data = main_words[:10].sort_values('counts'), x = 'words', y = 'counts')"
   ]
  },
  {
   "cell_type": "code",
   "execution_count": 29,
   "id": "d123f003",
   "metadata": {},
   "outputs": [],
   "source": [
    "wordcloud_t = WordCloud(background_color='white',stopwords=stops).generate(str(df_copy['tweet'].values))"
   ]
  },
  {
   "cell_type": "code",
   "execution_count": null,
   "id": "fac62367",
   "metadata": {},
   "outputs": [],
   "source": []
  },
  {
   "cell_type": "code",
   "execution_count": null,
   "id": "d2930d4d",
   "metadata": {},
   "outputs": [],
   "source": [
    "from nltk.sentiment import SentimentIntensityAnalyzer\n",
    "import operator\n",
    "\n",
    "sia = SentimentIntensityAnalyzer()\n",
    "df_copy[\"sentiment_score\"] = df_copy[\"tweet\"].apply(lambda x: sia.polarity_scores(x)[\"compound\"])\n",
    "df_copy[\"sentiment\"] = np.select([df_copy[\"sentiment_score\"] < 0, df_copy[\"sentiment_score\"] == 0, df_copy[\"sentiment_score\"] > 0],\n",
    "                           ['neg', 'neu', 'pos'])"
   ]
  },
  {
   "cell_type": "code",
   "execution_count": null,
   "id": "5f09b9cd",
   "metadata": {},
   "outputs": [],
   "source": [
    "df_copy['sentiment']"
   ]
  },
  {
   "cell_type": "code",
   "execution_count": null,
   "id": "c3334865",
   "metadata": {},
   "outputs": [],
   "source": [
    "df_copy[\"sentiment\"].value_counts()"
   ]
  },
  {
   "cell_type": "code",
   "execution_count": null,
   "id": "39cf9e5f",
   "metadata": {
    "scrolled": false
   },
   "outputs": [],
   "source": [
    "sns.countplot(data = df_copy, x = 'sentiment')"
   ]
  },
  {
   "cell_type": "markdown",
   "id": "777d1bd1",
   "metadata": {},
   "source": [
    "Dari plot tersebut kita tahu bahwa distribusi antara positif tweet dengan negative tweet seimbang. Akan tetapi, perlu diperhatikan juga bahwa hal tersebut tidak 100% akurat, mengingat kita menggunakan model dari package luar, namun ini tetap dapat dijadikan sebagai acuan kita terhadap garis besar tweet."
   ]
  },
  {
   "cell_type": "code",
   "execution_count": null,
   "id": "5a270286",
   "metadata": {},
   "outputs": [],
   "source": [
    "# Ini adalah program yang menghitung satu user melakukan tweet berapa kali, dengan username tersebut.\n",
    "\n",
    "df_most_id = pd.DataFrame(df_copy.groupby(['user_id', 'username'])['user_id'].count())\n",
    "df_most_id['index'] = df_most_id.index\n",
    "df_most_id['user_id_counts'] = df_most_id['index'].apply(lambda x : x[0])\n",
    "df_most_id['username'] = df_most_id['index'].apply(lambda x : x[1])\n",
    "df_most_id.drop(columns = ['index'], inplace = True)\n",
    "df_most_id.index = np.arange(len(df_most_id))\n",
    "df_most_id.rename(columns = {'user_id' : 'user_id_counts', 'user_id_counts' : 'user_id' }, inplace = True)\n",
    "\n",
    "df_most_id_sorted = df_most_id.sort_values(by = ['user_id_counts'], ascending = False).iloc[:20]\n",
    "df_most_id_sorted"
   ]
  },
  {
   "cell_type": "code",
   "execution_count": null,
   "id": "8a91c624",
   "metadata": {
    "scrolled": false
   },
   "outputs": [],
   "source": [
    "df_most_id2 = pd.DataFrame(df_copy.groupby(['user_id', 'sentiment'])['tweet'].count()).sort_values('tweet', ascending = False)\n",
    "df_most_id2"
   ]
  },
  {
   "cell_type": "markdown",
   "id": "126780f2",
   "metadata": {},
   "source": [
    "Berdasarkan table ini, terdapat sebuah fakta menarik bahwa ada user yang melakukan tweet dengan banyak tweet bernilai positif sama dengan tweet bernilai negatif. Hal ini menarik, mengingat user tersebut adalah user yang sama, dan memungkinkan dengan username yang berbeda. Hal ini mungkin mengindikasikan adanya double face pada user-user tersebut."
   ]
  },
  {
   "cell_type": "code",
   "execution_count": null,
   "id": "eb55914f",
   "metadata": {},
   "outputs": [],
   "source": [
    "df_most_id2['index'] = df_most_id2.index\n",
    "df_most_id2['user_id'] = df_most_id2['index'].apply(lambda x : x[0])\n",
    "df_most_id2['sentiment'] = df_most_id2['index'].apply(lambda x : x[1])\n",
    "df_most_id2.drop(columns = ['index'], inplace = True)\n",
    "df_most_id2.index = np.arange(len(df_most_id2))\n",
    "df_most_id2"
   ]
  },
  {
   "cell_type": "code",
   "execution_count": null,
   "id": "d71d0299",
   "metadata": {},
   "outputs": [],
   "source": [
    "df_most_id2 = df_most_id2[df_most_id2['sentiment'] == 'neg']\n",
    "df_most_id2\n",
    "# df_most_id2.groupby(['user_id']).count().sort_values('sentiment', ascending = False)"
   ]
  },
  {
   "cell_type": "code",
   "execution_count": null,
   "id": "8f892521",
   "metadata": {},
   "outputs": [],
   "source": [
    "most_neg_user = df_copy[df_copy['user_id'] == df_most_id2['user_id'].iloc[0]][['tweet', 'sentiment']]\n",
    "most_neg_user.to_csv(os.path.join('databases', 'most_neg_user.csv'))\n",
    "most_neg_user"
   ]
  },
  {
   "cell_type": "code",
   "execution_count": null,
   "id": "7c3d6c0f",
   "metadata": {},
   "outputs": [],
   "source": []
  },
  {
   "cell_type": "code",
   "execution_count": null,
   "id": "46e2f240",
   "metadata": {},
   "outputs": [],
   "source": [
    "df_mohammadfahim68 = df_copy[df_copy['username'] == 'mohammadfahim68'][['tweet', 'sentiment']]\n",
    "df_mohammadfahim68['sentiment'].value_counts()"
   ]
  },
  {
   "cell_type": "code",
   "execution_count": null,
   "id": "23542ea2",
   "metadata": {},
   "outputs": [],
   "source": [
    "df_mohammadfahim68[df_mohammadfahim68['sentiment'] == 'neg']"
   ]
  },
  {
   "cell_type": "code",
   "execution_count": null,
   "id": "10deba7c",
   "metadata": {},
   "outputs": [],
   "source": [
    "df_most_id2"
   ]
  }
 ],
 "metadata": {
  "kernelspec": {
   "display_name": "Python 3 (ipykernel)",
   "language": "python",
   "name": "python3"
  },
  "language_info": {
   "codemirror_mode": {
    "name": "ipython",
    "version": 3
   },
   "file_extension": ".py",
   "mimetype": "text/x-python",
   "name": "python",
   "nbconvert_exporter": "python",
   "pygments_lexer": "ipython3",
   "version": "3.9.16"
  }
 },
 "nbformat": 4,
 "nbformat_minor": 5
}
