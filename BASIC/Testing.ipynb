{
 "cells": [
  {
   "cell_type": "code",
   "execution_count": 1,
   "id": "f41bf3bf-bacf-41b6-9ee1-63cda694a6d1",
   "metadata": {},
   "outputs": [],
   "source": [
    "import matplotlib.pyplot as plt"
   ]
  },
  {
   "cell_type": "code",
   "execution_count": 2,
   "id": "1190a0d3-ec5c-49d1-a165-04bb080bb77f",
   "metadata": {},
   "outputs": [
    {
     "data": {
      "text/plain": [
       "(78.0, 10.295630140987)"
      ]
     },
     "execution_count": 2,
     "metadata": {},
     "output_type": "execute_result"
    }
   ],
   "source": [
    "import numpy as np\n",
    "\n",
    "data = np.array([60,75,80,85,90])\n",
    "\n",
    "data.mean(), data.std()"
   ]
  },
  {
   "cell_type": "code",
   "execution_count": 3,
   "id": "bf45f045-18eb-4523-89e4-c3c5e3ab9b09",
   "metadata": {},
   "outputs": [
    {
     "data": {
      "text/plain": [
       "78.000392"
      ]
     },
     "execution_count": 3,
     "metadata": {},
     "output_type": "execute_result"
    }
   ],
   "source": [
    "bootstrap_mean = []\n",
    "\n",
    "for i in range(1000000):\n",
    "    bootstrap = [np.random.choice(data) for _ in range(len(data))]\n",
    "    bootstrap_mean.append(np.array(bootstrap).mean())\n",
    "    \n",
    "np.array(bootstrap_mean).mean()"
   ]
  },
  {
   "cell_type": "code",
   "execution_count": 4,
   "id": "39ff4581-2a1a-4c19-84c5-f4bff86ee61d",
   "metadata": {},
   "outputs": [
    {
     "data": {
      "text/plain": [
       "(array([   294.,   4831.,  20737.,  61235., 135241., 213609., 250921.,\n",
       "        197306.,  97723.,  18103.]),\n",
       " array([60., 63., 66., 69., 72., 75., 78., 81., 84., 87., 90.]),\n",
       " <BarContainer object of 10 artists>)"
      ]
     },
     "execution_count": 4,
     "metadata": {},
     "output_type": "execute_result"
    },
    {
     "data": {
      "image/png": "[encoded data removed]",
      "text/plain": [
       "<Figure size 432x288 with 1 Axes>"
      ]
     },
     "metadata": {
      "needs_background": "light"
     },
     "output_type": "display_data"
    }
   ],
   "source": [
    "plt.hist(bootstrap_mean)"
   ]
  },
  {
   "cell_type": "code",
   "execution_count": 5,
   "id": "49bf7398-c130-4f57-9b04-5ae8c174e840",
   "metadata": {},
   "outputs": [
    {
     "data": {
      "text/plain": [
       "4.605802627809402"
      ]
     },
     "execution_count": 5,
     "metadata": {},
     "output_type": "execute_result"
    }
   ],
   "source": [
    "np.array(bootstrap_mean).std()"
   ]
  }
 ],
 "metadata": {
  "kernelspec": {
   "display_name": "Python 3 (ipykernel)",
   "language": "python",
   "name": "python3"
  },
  "language_info": {
   "codemirror_mode": {
    "name": "ipython",
    "version": 3
   },
   "file_extension": ".py",
   "mimetype": "text/x-python",
   "name": "python",
   "nbconvert_exporter": "python",
   "pygments_lexer": "ipython3",
   "version": "3.9.12"
  }
 },
 "nbformat": 4,
 "nbformat_minor": 5
}
